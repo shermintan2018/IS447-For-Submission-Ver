{
 "cells": [
  {
   "cell_type": "markdown",
   "metadata": {},
   "source": [
    "# Pharmacy Department - Merged Data Cleaning & EDA results\n",
    "\n",
    "Includes PEH, GEH, MEH, MNH"
   ]
  },
  {
   "cell_type": "markdown",
   "metadata": {},
   "source": [
    "## Step 1: Import necessary packages"
   ]
  },
  {
   "cell_type": "code",
   "execution_count": null,
   "metadata": {},
   "outputs": [],
   "source": [
    "import pandas as pd\n",
    "import numpy as np"
   ]
  },
  {
   "cell_type": "markdown",
   "metadata": {},
   "source": [
    "## Step 2: Read all cleaned csv files"
   ]
  },
  {
   "cell_type": "code",
   "execution_count": null,
   "metadata": {},
   "outputs": [],
   "source": [
    "PEH = pd.read_csv('../../Data/Pharmacy Dept/Data Cleaning/PEH_Data_Cleaned.csv')\n",
    "GEH = pd.read_csv('../../Data/Pharmacy Dept/Data Cleaning/GEH_Data_Cleaned.csv')\n",
    "MEH = pd.read_csv('../../Data/Pharmacy Dept/Data Cleaning/MEH_Data_Cleaned.csv')\n",
    "MNH = pd.read_csv('../../Data/Pharmacy Dept/Data Cleaning/MNH_Data_Cleaned.csv')"
   ]
  },
  {
   "cell_type": "markdown",
   "metadata": {},
   "source": [
    "## Step 3: Assigning 'Hospital' Name as indicator"
   ]
  },
  {
   "cell_type": "code",
   "execution_count": null,
   "metadata": {},
   "outputs": [],
   "source": [
    "#PEH\n",
    "PEH['Hospital'] = 'PEH'"
   ]
  },
  {
   "cell_type": "code",
   "execution_count": null,
   "metadata": {},
   "outputs": [],
   "source": [
    "PEH.head()"
   ]
  },
  {
   "cell_type": "code",
   "execution_count": null,
   "metadata": {},
   "outputs": [],
   "source": [
    "PEH.info()"
   ]
  },
  {
   "cell_type": "code",
   "execution_count": null,
   "metadata": {},
   "outputs": [],
   "source": [
    "#GEH\n",
    "GEH['Hospital'] = 'GEH'"
   ]
  },
  {
   "cell_type": "code",
   "execution_count": null,
   "metadata": {},
   "outputs": [],
   "source": [
    "GEH.head()"
   ]
  },
  {
   "cell_type": "code",
   "execution_count": null,
   "metadata": {},
   "outputs": [],
   "source": [
    "GEH.info()"
   ]
  },
  {
   "cell_type": "code",
   "execution_count": null,
   "metadata": {},
   "outputs": [],
   "source": [
    "#Change 'Date' Column to '%Y-%m-%d' \n",
    "GEH['Date'] = pd.to_datetime(GEH['Date']).dt.date\n",
    "GEH"
   ]
  },
  {
   "cell_type": "code",
   "execution_count": null,
   "metadata": {},
   "outputs": [],
   "source": [
    "#MEH\n",
    "MEH['Hospital'] = 'MEH'"
   ]
  },
  {
   "cell_type": "code",
   "execution_count": null,
   "metadata": {},
   "outputs": [],
   "source": [
    "MEH.head()"
   ]
  },
  {
   "cell_type": "code",
   "execution_count": null,
   "metadata": {},
   "outputs": [],
   "source": [
    "MEH.info()"
   ]
  },
  {
   "cell_type": "code",
   "execution_count": null,
   "metadata": {},
   "outputs": [],
   "source": [
    "#MNH\n",
    "MNH['Hospital'] = 'MNH'"
   ]
  },
  {
   "cell_type": "code",
   "execution_count": null,
   "metadata": {},
   "outputs": [],
   "source": [
    "MNH.head()"
   ]
  },
  {
   "cell_type": "code",
   "execution_count": null,
   "metadata": {},
   "outputs": [],
   "source": [
    "MNH.info()"
   ]
  },
  {
   "cell_type": "code",
   "execution_count": null,
   "metadata": {},
   "outputs": [],
   "source": [
    "# rename packing to checked for standardization \n",
    "MNH= MNH.rename({'DateTime TTO Packing': 'DateTime TTO Checked',\n",
    "    'Time Taken (Received to Packing)' : 'Time Taken (Received to Checked)', \n",
    "    'Time Taken (Packing to Dispensed)' : 'Time Taken (Checked to Dispensed)',\n",
    "    'Avg Time Taken / Day (Received to Packing)' : 'Avg Time Taken / Day (Received to Checked)',\n",
    "    'Avg Time Taken / Day (Packing to Dispensed)' : 'Avg Time Taken / Day (Checked to Dispensed)', \n",
    "    'Avg Time Taken / Month (Received to Packing)' : 'Avg Time Taken / Month (Received to Checked)',\n",
    "    'Avg Time Taken / Month (Packing to Dispensed)' : 'Avg Time Taken / Month (Checked to Dispensed)'}, axis=1)"
   ]
  },
  {
   "cell_type": "code",
   "execution_count": null,
   "metadata": {},
   "outputs": [],
   "source": [
    "#Change 'Date' Column to %Y-%m-%d only\n",
    "MNH['Date'] = pd.to_datetime(MNH['Date']).dt.date"
   ]
  },
  {
   "cell_type": "code",
   "execution_count": null,
   "metadata": {},
   "outputs": [],
   "source": [
    "MNH"
   ]
  },
  {
   "cell_type": "markdown",
   "metadata": {},
   "source": [
    "## Step 4: Merge ALL relevant CSV(s)"
   ]
  },
  {
   "cell_type": "code",
   "execution_count": null,
   "metadata": {},
   "outputs": [],
   "source": [
    "pd.set_option('display.max_columns', None)"
   ]
  },
  {
   "cell_type": "code",
   "execution_count": null,
   "metadata": {},
   "outputs": [],
   "source": [
    "df = pd.concat([PEH,GEH,MEH,MNH], ignore_index=True)\n",
    "\n",
    "df"
   ]
  },
  {
   "cell_type": "code",
   "execution_count": null,
   "metadata": {},
   "outputs": [],
   "source": [
    "df.info()"
   ]
  },
  {
   "cell_type": "code",
   "execution_count": null,
   "metadata": {},
   "outputs": [],
   "source": [
    "df[df['Date'].isnull()]"
   ]
  },
  {
   "cell_type": "code",
   "execution_count": null,
   "metadata": {},
   "outputs": [],
   "source": [
    "df.isnull().sum()"
   ]
  },
  {
   "cell_type": "markdown",
   "metadata": {},
   "source": [
    "## Step 5: Change those with 0 days 00:00:00 under Time Taken (Received to Checked)/Time Taken (Checked to Dispensed) to empty \n"
   ]
  },
  {
   "cell_type": "code",
   "execution_count": null,
   "metadata": {},
   "outputs": [],
   "source": [
    "df['Time Taken (Received to Checked)'] = df['Time Taken (Received to Checked)'].replace(['0 days 00:00:00'], np.nan)"
   ]
  },
  {
   "cell_type": "code",
   "execution_count": null,
   "metadata": {},
   "outputs": [],
   "source": [
    "df['Time Taken (Checked to Dispensed)'] = df['Time Taken (Checked to Dispensed)'].replace(['0 days 00:00:00'], np.nan)"
   ]
  },
  {
   "cell_type": "code",
   "execution_count": null,
   "metadata": {},
   "outputs": [],
   "source": [
    "# Add additional columns to analyse those cases that did not meet KPI"
   ]
  },
  {
   "cell_type": "code",
   "execution_count": null,
   "metadata": {},
   "outputs": [],
   "source": [
    "\n",
    "#def f(row):\n",
    "#    if (row['Meet KPI'] == 'No') | (row['Meet KPI'] == ''):\n",
    "#        if (row['Time Taken (Received to Checked)']  != '') & (row['Time Taken (Checked to Dispensed)']  != ''):\n",
    "#            if (row['Time Taken (Received to Checked)'] >= row['Avg Time Taken / Day (Received to Checked)']) & (row['Time Taken (Checked to Dispensed)'] >= row['Avg Time Taken / Day (Checked to Dispensed)']):\n",
    "#                val = 'Yes'\n",
    "#            else:\n",
    "#                val = 'No'\n",
    "#        elif (row['Time Taken (Received to Checked)']  != '') | (row['Time Taken (Checked to Dispensed)']  != ''):\n",
    "#            if (row['Time Taken (Received to Checked)'] >= row['Avg Time Taken / Day (Received to Checked)']) | (row['Time Taken (Checked to Dispensed)'] >= row['Avg Time Taken / Day (Checked to Dispensed)']):\n",
    "#                val = 'Yes'\n",
    "#            else:\n",
    "#                val = 'No'\n",
    "#        else:\n",
    "#            val = ''\n",
    "#    else:\n",
    "#        val = 'No'\n",
    "#    return val\n"
   ]
  },
  {
   "cell_type": "code",
   "execution_count": null,
   "metadata": {},
   "outputs": [],
   "source": [
    "#def f2(row):\n",
    "#    if (row['Time Taken (Received to Checked)'] == '') & (row['Time Taken (Checked to Dispensed)']  == ''):\n",
    "#        val = ''\n",
    "#    elif (row['Time Taken (Received to Checked)']  != '') | (row['Time Taken (Checked to Dispensed)']  != ''):\n",
    "#        if (row['Time Taken (Received to Checked)'] >= row['Avg Time Taken / Day (Received to Checked)']) & (row['Time Taken (Checked to Dispensed)'] >= row['Avg Time Taken / Day (Checked to Dispensed)']):\n",
    "#            val = 'Yes'\n",
    "#        else:\n",
    "#            val = 'No'\n",
    "#    elif (row['Time Taken (Received to Checked)']  != '') & (row['Time Taken (Checked to Dispensed)']  != ''):\n",
    "#        if (row['Time Taken (Received to Checked)'] >= row['Avg Time Taken / Day (Received to Checked)']) & (row['Time Taken (Checked to Dispensed)'] >= row['Avg Time Taken / Day (Checked to Dispensed)']):\n",
    "#            val = 'Yes'\n",
    "#        else:\n",
    "#            val = 'No'\n",
    "#    else:\n",
    "#        val = 'No'\n",
    "#    return val"
   ]
  },
  {
   "cell_type": "code",
   "execution_count": null,
   "metadata": {},
   "outputs": [],
   "source": [
    "#df['Process Time Issue'] = df.apply(f, axis=1)\n",
    "#df"
   ]
  },
  {
   "cell_type": "code",
   "execution_count": null,
   "metadata": {},
   "outputs": [],
   "source": [
    "\n",
    "#df['Time Taken (Received to Checked)'].notnull() >= df['Avg Time Taken / Day (Received to Checked)']"
   ]
  },
  {
   "cell_type": "code",
   "execution_count": null,
   "metadata": {},
   "outputs": [],
   "source": [
    "df['Process Time Issue'] = np.where( (df['Meet KPI'] == 'No') | (df['Meet KPI'] == '') ,\n",
    "                            np.where(  \n",
    "                                ((df['Time Taken (Received to Checked)'] >= df['Avg Time Taken / Day (Received to Checked)']) | (df['Time Taken (Checked to Dispensed)'] >= df['Avg Time Taken / Day (Checked to Dispensed)']) ),\n",
    "                                        'Yes', 'No'), 'No')\n"
   ]
  },
  {
   "cell_type": "code",
   "execution_count": null,
   "metadata": {
    "scrolled": true
   },
   "outputs": [],
   "source": [
    "#df"
   ]
  },
  {
   "cell_type": "markdown",
   "metadata": {},
   "source": [
    "## Step 6: Export to CSV"
   ]
  },
  {
   "cell_type": "code",
   "execution_count": null,
   "metadata": {},
   "outputs": [],
   "source": [
    "#export to CSV\n",
    "df.to_csv(\"../../Data/Pharmacy Dept/Data Cleaning/Merged_Pharmacy_Dept_CLEANED.csv\", index=None, header=True)"
   ]
  },
  {
   "cell_type": "code",
   "execution_count": null,
   "metadata": {},
   "outputs": [],
   "source": []
  }
 ],
 "metadata": {
  "interpreter": {
   "hash": "40d3a090f54c6569ab1632332b64b2c03c39dcf918b08424e98f38b5ae0af88f"
  },
  "kernelspec": {
   "display_name": "Python 3",
   "language": "python",
   "name": "python3"
  },
  "language_info": {
   "codemirror_mode": {
    "name": "ipython",
    "version": 3
   },
   "file_extension": ".py",
   "mimetype": "text/x-python",
   "name": "python",
   "nbconvert_exporter": "python",
   "pygments_lexer": "ipython3",
   "version": "3.8.3"
  }
 },
 "nbformat": 4,
 "nbformat_minor": 2
}
