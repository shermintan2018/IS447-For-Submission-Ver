{
 "cells": [
  {
   "cell_type": "markdown",
   "metadata": {},
   "source": [
    "# MNH Pharmacy Department"
   ]
  },
  {
   "cell_type": "markdown",
   "metadata": {},
   "source": [
    "## Step 1: Import the necessary packages and make changes to any display settings"
   ]
  },
  {
   "cell_type": "code",
   "execution_count": null,
   "metadata": {},
   "outputs": [],
   "source": [
    "import pandas as pd\n",
    "import numpy as np\n",
    "from datetime import *"
   ]
  },
  {
   "cell_type": "code",
   "execution_count": null,
   "metadata": {},
   "outputs": [],
   "source": [
    "pd.set_option('display.max_columns', None)"
   ]
  },
  {
   "cell_type": "markdown",
   "metadata": {},
   "source": [
    "## Data Cleaning"
   ]
  },
  {
   "cell_type": "markdown",
   "metadata": {},
   "source": [
    "### Step 2: Read the data "
   ]
  },
  {
   "cell_type": "code",
   "execution_count": null,
   "metadata": {},
   "outputs": [],
   "source": [
    "df = pd.read_csv('../../Data/Pharmacy Dept/MNH TTO Data/MNH TTO Data - MERGED.csv', na_values=' ')"
   ]
  },
  {
   "cell_type": "code",
   "execution_count": null,
   "metadata": {},
   "outputs": [],
   "source": [
    "df"
   ]
  },
  {
   "cell_type": "code",
   "execution_count": null,
   "metadata": {},
   "outputs": [],
   "source": [
    "df.info()"
   ]
  },
  {
   "cell_type": "code",
   "execution_count": null,
   "metadata": {},
   "outputs": [],
   "source": [
    "list(df.columns)"
   ]
  },
  {
   "cell_type": "markdown",
   "metadata": {},
   "source": [
    "### Step 3: Drop columns that should be ignore"
   ]
  },
  {
   "cell_type": "code",
   "execution_count": null,
   "metadata": {},
   "outputs": [],
   "source": [
    "# drop repeated column\n",
    "df.drop(['Can close', 'Time TTO received (24 hr format) (eg 1340)', 'Timing of Packing (24 hr format / PBH) (eg 1340 / PBH)', 'Timing of Dispensing (24 hr format)',\n",
    "        'Weekday', 'Weekday Count', 'Weekend', 'Weekend Count', 'NOT Ward 9', '20 min and below', 'Between 20 to 30 min', '30min and below', 'More than 30 min'], \n",
    "        axis=1, inplace=True)"
   ]
  },
  {
   "cell_type": "code",
   "execution_count": null,
   "metadata": {},
   "outputs": [],
   "source": [
    "#df.drop(df.iloc[:, 18:23], inplace = True, axis = 1)"
   ]
  },
  {
   "cell_type": "markdown",
   "metadata": {},
   "source": [
    "### Step 4: Rename common columns"
   ]
  },
  {
   "cell_type": "code",
   "execution_count": null,
   "metadata": {},
   "outputs": [],
   "source": [
    "#rename columns\n",
    "df.rename({'Case no.': 'Case Number', \n",
    "            'Bed no.': 'Room/Bed', \n",
    "            'No. of drugs': 'No. of Drugs',\n",
    "           'Time TTO received': 'DateTime TTO Received',\n",
    "            'Timing of packing': 'DateTime TTO Packing', \n",
    "            'Timing of Dispensing': 'DateTime TTO Dispensed'},   \n",
    "           axis=1, inplace=True)"
   ]
  },
  {
   "cell_type": "markdown",
   "metadata": {},
   "source": [
    "### Step 5: Fix date time type"
   ]
  },
  {
   "cell_type": "code",
   "execution_count": null,
   "metadata": {},
   "outputs": [],
   "source": [
    "columns = ['DateTime TTO Received',\n",
    "           'DateTime TTO Packing', \n",
    "           'DateTime TTO Dispensed']\n",
    "for column in columns:\n",
    "    df.loc[:,column] = pd.to_datetime((df['Date'].astype(str) + ' ' + df[column].astype(str)), infer_datetime_format=True, errors='coerce')"
   ]
  },
  {
   "cell_type": "code",
   "execution_count": null,
   "metadata": {
    "scrolled": true
   },
   "outputs": [],
   "source": [
    "df.info()"
   ]
  },
  {
   "cell_type": "markdown",
   "metadata": {},
   "source": [
    "### Step 6: Handle missing values"
   ]
  },
  {
   "cell_type": "code",
   "execution_count": null,
   "metadata": {},
   "outputs": [],
   "source": [
    "df.isnull().sum()"
   ]
  },
  {
   "cell_type": "code",
   "execution_count": null,
   "metadata": {},
   "outputs": [],
   "source": [
    "#df.iloc[5750:5770]"
   ]
  },
  {
   "cell_type": "markdown",
   "metadata": {},
   "source": [
    "#### Missing date"
   ]
  },
  {
   "cell_type": "code",
   "execution_count": null,
   "metadata": {},
   "outputs": [],
   "source": [
    "missing_date = df[df['Case Number'].isnull()]\n",
    "missing_date"
   ]
  },
  {
   "cell_type": "code",
   "execution_count": null,
   "metadata": {},
   "outputs": [],
   "source": [
    "# fill up with 15-07-21 based on the given data CSV\n",
    "df[['Date']] = df[['Date']].fillna('15-07-21')"
   ]
  },
  {
   "cell_type": "markdown",
   "metadata": {},
   "source": [
    "#### Missing Time TTO received"
   ]
  },
  {
   "cell_type": "code",
   "execution_count": null,
   "metadata": {},
   "outputs": [],
   "source": [
    "# drop rows with missing Time TTO received -> 1 row only\n",
    "df.replace('#VALUE!', np.nan, inplace = True)\n",
    "df = df.dropna(subset=['DateTime TTO Received'])\n",
    "#df.replace('blank', np.nan, inplace = True)"
   ]
  },
  {
   "cell_type": "markdown",
   "metadata": {},
   "source": [
    "#### Missing case number"
   ]
  },
  {
   "cell_type": "code",
   "execution_count": null,
   "metadata": {},
   "outputs": [],
   "source": [
    "df['Case Number'] = df['Case Number'].replace('  ', 'EMPTY')\n",
    "df[['Case Number']] = df[['Case Number']].fillna('EMPTY')"
   ]
  },
  {
   "cell_type": "markdown",
   "metadata": {},
   "source": [
    "#### Missing Time Taken To Pack (mins)"
   ]
  },
  {
   "cell_type": "code",
   "execution_count": null,
   "metadata": {},
   "outputs": [],
   "source": [
    "df[df['Time Taken To Pack (mins)'].isnull()]"
   ]
  },
  {
   "cell_type": "code",
   "execution_count": null,
   "metadata": {},
   "outputs": [],
   "source": [
    "# assyne rgar those with missing time taken to pack (mins) with PBH\n",
    "df[['Time Taken To Pack (mins)']] = df[['Time Taken To Pack (mins)']].fillna('PBH')"
   ]
  },
  {
   "cell_type": "markdown",
   "metadata": {},
   "source": [
    "#### Missing Time TTO packing"
   ]
  },
  {
   "cell_type": "code",
   "execution_count": null,
   "metadata": {},
   "outputs": [],
   "source": [
    "# fill up missing time with naT\n",
    "df[df['DateTime TTO Packing'].isnull()].head(3)"
   ]
  },
  {
   "cell_type": "code",
   "execution_count": null,
   "metadata": {},
   "outputs": [],
   "source": [
    "#df[['Time TTO Packing']] = df[['Time TTO Packing']].fillna('NA')"
   ]
  },
  {
   "cell_type": "markdown",
   "metadata": {},
   "source": [
    "#### Missing Time TTO Dispensed"
   ]
  },
  {
   "cell_type": "code",
   "execution_count": null,
   "metadata": {},
   "outputs": [],
   "source": [
    "#df[df['Time TTO Dispensed'].isnull()].head(3)"
   ]
  },
  {
   "cell_type": "code",
   "execution_count": null,
   "metadata": {},
   "outputs": [],
   "source": [
    "# handle row with missing Time TTO packing, Time TTO dispensing with blank because it is empty but dont want to drop\n",
    "#df[['Time TTO Dispensed']] = df[['Time TTO Dispensed']].fillna('NA')\n",
    "#df[df['Time TTO packing'].isnull()].head()"
   ]
  },
  {
   "cell_type": "code",
   "execution_count": null,
   "metadata": {},
   "outputs": [],
   "source": [
    "df.isnull().sum()"
   ]
  },
  {
   "cell_type": "code",
   "execution_count": null,
   "metadata": {},
   "outputs": [],
   "source": [
    "df"
   ]
  },
  {
   "cell_type": "code",
   "execution_count": null,
   "metadata": {},
   "outputs": [],
   "source": [
    "#no need to handle missing values for comments since they can leave comments or not"
   ]
  },
  {
   "cell_type": "markdown",
   "metadata": {},
   "source": [
    "### Step 7: Handle rows with special characters"
   ]
  },
  {
   "cell_type": "markdown",
   "metadata": {},
   "source": [
    "#### Handle non numeric value in No. of drugs"
   ]
  },
  {
   "cell_type": "code",
   "execution_count": null,
   "metadata": {},
   "outputs": [],
   "source": [
    "#select rows not numeric\n",
    "df[df['No. of Drugs'].apply(lambda x: not x.isnumeric())]"
   ]
  },
  {
   "cell_type": "code",
   "execution_count": null,
   "metadata": {},
   "outputs": [],
   "source": [
    "# replace with Unknown number \n",
    "df['No. of Drugs'] = df['No. of Drugs'].str.replace('-','NA')\n",
    "df['No. of Drugs'] = df['No. of Drugs'].str.replace('relabeling','NA')"
   ]
  },
  {
   "cell_type": "markdown",
   "metadata": {},
   "source": [
    "#### Handle #### value in Time Taken To Pack (mins) / Time Taken to Reach Pt (mins)"
   ]
  },
  {
   "cell_type": "code",
   "execution_count": null,
   "metadata": {},
   "outputs": [],
   "source": [
    "df_special = df.loc[df['Time Taken To Pack (mins)'].str.contains(r'#') == True]\n",
    "df_special.head()"
   ]
  },
  {
   "cell_type": "code",
   "execution_count": null,
   "metadata": {},
   "outputs": [],
   "source": [
    "df['Time Taken To Pack (mins)'] = df['Time Taken To Pack (mins)'].str.replace('###############################################################################################################################################################################################################################################################', \n",
    "                                                                              'PBH') # replace with PBH"
   ]
  },
  {
   "cell_type": "code",
   "execution_count": null,
   "metadata": {},
   "outputs": [],
   "source": [
    "# replace blank with nan\n",
    "df['Time Taken To Pack (mins)'] = df['Time Taken To Pack (mins)'].str.replace('blank', \"\")"
   ]
  },
  {
   "cell_type": "code",
   "execution_count": null,
   "metadata": {},
   "outputs": [],
   "source": [
    "df['Time Taken to Reach Pt (mins)'] = df['Time Taken to Reach Pt (mins)'].str.replace('###############################################################################################################################################################################################################################################################', \n",
    "                                                                              'PBH') # replace with PBH"
   ]
  },
  {
   "cell_type": "code",
   "execution_count": null,
   "metadata": {},
   "outputs": [],
   "source": [
    "# replace blank with NA\n",
    "df['Time Taken to Reach Pt (mins)']  = df['Time Taken to Reach Pt (mins)'].str.replace('blank', '')"
   ]
  },
  {
   "cell_type": "code",
   "execution_count": null,
   "metadata": {
    "scrolled": true
   },
   "outputs": [],
   "source": [
    "df.iloc[474:476]"
   ]
  },
  {
   "cell_type": "markdown",
   "metadata": {},
   "source": [
    "### Step 8: Replace year not equal to 2021 as 2021 in Date"
   ]
  },
  {
   "cell_type": "code",
   "execution_count": null,
   "metadata": {},
   "outputs": [],
   "source": [
    "# change to datetime formate\n",
    "df['Date'] = pd.to_datetime(df['Date'])"
   ]
  },
  {
   "cell_type": "code",
   "execution_count": null,
   "metadata": {},
   "outputs": [],
   "source": [
    "df_filtered = df[df['Date'].dt.strftime('%Y') != '2021']\n",
    "df_filtered.count()"
   ]
  },
  {
   "cell_type": "code",
   "execution_count": null,
   "metadata": {},
   "outputs": [],
   "source": [
    "df_filtered"
   ]
  },
  {
   "cell_type": "code",
   "execution_count": null,
   "metadata": {},
   "outputs": [],
   "source": [
    "df.loc[8626:8673, 'Date'] = '2021-07-22'\n",
    "df['Date'] = pd.to_datetime(df['Date']) # change back to datetime format from obj"
   ]
  },
  {
   "cell_type": "code",
   "execution_count": null,
   "metadata": {},
   "outputs": [],
   "source": [
    "df.info()"
   ]
  },
  {
   "cell_type": "code",
   "execution_count": null,
   "metadata": {},
   "outputs": [],
   "source": [
    "df.loc[8619:8669]"
   ]
  },
  {
   "cell_type": "code",
   "execution_count": null,
   "metadata": {},
   "outputs": [],
   "source": [
    "df.isnull().sum()"
   ]
  },
  {
   "cell_type": "markdown",
   "metadata": {},
   "source": [
    "## EDA"
   ]
  },
  {
   "cell_type": "markdown",
   "metadata": {},
   "source": [
    "### Step 9: Get Day of Week"
   ]
  },
  {
   "cell_type": "code",
   "execution_count": null,
   "metadata": {},
   "outputs": [],
   "source": [
    "df['Weekday'] = df['Date'].dt.day_name()"
   ]
  },
  {
   "cell_type": "code",
   "execution_count": null,
   "metadata": {},
   "outputs": [],
   "source": [
    "df.info()"
   ]
  },
  {
   "cell_type": "markdown",
   "metadata": {},
   "source": [
    "### Step 10: Calculate Overall Time Taken\n",
    "\n",
    "Get the minutes from Time Taken To Pack (mins) & Time Taken to Reach Pt (mins)"
   ]
  },
  {
   "cell_type": "code",
   "execution_count": null,
   "metadata": {},
   "outputs": [],
   "source": [
    "#df_filtered = df[df['Time Taken to Reach Pt (mins)'] == 'PBH']\n",
    "#df_filtered"
   ]
  },
  {
   "cell_type": "code",
   "execution_count": null,
   "metadata": {},
   "outputs": [],
   "source": [
    "tto_received = pd.to_datetime(df['DateTime TTO Received'].astype(str)) \n",
    "tto_dispensed = pd.to_datetime(df[df['Time Taken to Reach Pt (mins)'] != '']['DateTime TTO Dispensed'].astype(str))\n",
    "\n",
    "#df[df['Time Taken to Reach Pt (mins)'] == 'PBH']\n",
    "df['TAT'] = tto_dispensed.sub(tto_received).dt.total_seconds().div(60)\n",
    "df"
   ]
  },
  {
   "cell_type": "code",
   "execution_count": null,
   "metadata": {},
   "outputs": [],
   "source": [
    "#df[df['Time Taken to Reach Pt (mins)'] != 'NA']['Time TTO Dispensed']"
   ]
  },
  {
   "cell_type": "markdown",
   "metadata": {},
   "source": [
    "### Step 11: Create Meet KPI column with value yes/no\n",
    "\n",
    "MNH: Total Time Taken < 25mins = Yes, else: No"
   ]
  },
  {
   "cell_type": "code",
   "execution_count": null,
   "metadata": {},
   "outputs": [],
   "source": [
    "def f(row):\n",
    "    if row['TAT'] > 25:\n",
    "        val = 'No'\n",
    "    elif row['TAT'] > 0 and row['TAT'] <= 25:\n",
    "        val = 'Yes'\n",
    "    else:\n",
    "        val = 'NA'\n",
    "    return val"
   ]
  },
  {
   "cell_type": "code",
   "execution_count": null,
   "metadata": {},
   "outputs": [],
   "source": [
    "df['Meet KPI'] = df.apply(f, axis=1)"
   ]
  },
  {
   "cell_type": "code",
   "execution_count": null,
   "metadata": {},
   "outputs": [],
   "source": [
    "df"
   ]
  },
  {
   "cell_type": "code",
   "execution_count": null,
   "metadata": {},
   "outputs": [],
   "source": [
    "df.info()"
   ]
  },
  {
   "cell_type": "code",
   "execution_count": null,
   "metadata": {},
   "outputs": [],
   "source": [
    "df['Meet KPI'].value_counts()"
   ]
  },
  {
   "cell_type": "markdown",
   "metadata": {},
   "source": [
    "### Step 12: Create Office Hours column to check if case handled during offcie hours\n",
    "\n",
    "Standard Office Hours: 8:00AM to 8:00PM"
   ]
  },
  {
   "cell_type": "code",
   "execution_count": null,
   "metadata": {},
   "outputs": [],
   "source": [
    "#df[\"Time TTO Received\"]  = pd.to_datetime(df[\"Time TTO Received\"] , infer_datetime_format=True, errors='coerce')\n",
    "#df[\"Time TTO Packing\"]  = pd.to_datetime(df[\"Time TTO Packing\"] , infer_datetime_format=True, errors='coerce')\n",
    "#df[\"Time TTO Dispensed\"]  = pd.to_datetime(df[\"Time TTO Dispensed\"] , infer_datetime_format=True, errors='coerce')"
   ]
  },
  {
   "cell_type": "code",
   "execution_count": null,
   "metadata": {},
   "outputs": [],
   "source": [
    "#df[\"Time TTO Received\"]  = df['Time TTO Received'].dt.time\n",
    "#df[\"Time TTO Packing\"]  = df['Time TTO Packing'].dt.time\n",
    "#df[\"Time TTO Dispensed\"]  = df['Time TTO Dispensed'].dt.time"
   ]
  },
  {
   "cell_type": "code",
   "execution_count": null,
   "metadata": {},
   "outputs": [],
   "source": [
    "df['Office Hours'] = np.where(df['DateTime TTO Received'].isnull() | df['DateTime TTO Dispensed'].isnull() , 'NA', \n",
    "                            (np.where(( #(df['Time TTO Received'] >= pd.to_datetime('08:00:00').time()) & \n",
    "                                        (df['DateTime TTO Dispensed'].dt.time <= pd.to_datetime('20:00:00').time())),\n",
    "                                        'Yes', 'No')))\n",
    "\n",
    "df"
   ]
  },
  {
   "cell_type": "markdown",
   "metadata": {},
   "source": [
    "### Step 13: Create Average Time Taken from (Received to Packing) & (Packing to Dispensed) columns"
   ]
  },
  {
   "cell_type": "code",
   "execution_count": null,
   "metadata": {},
   "outputs": [],
   "source": [
    "#Get Duration Difference of Received to Checked\n",
    "#df['Time Taken (Received to Packing)'] = (pd.to_datetime(df['DateTime TTO Packing'].astype(str)) - pd.to_datetime(df['DateTime TTO Received'].astype(str))).dt.total_seconds().div(60)\n",
    "#Get Duration Difference of Checked to Dispensed\n",
    "#df['Time Taken (Packing to Dispensed)'] = (pd.to_datetime(df['DateTime TTO Dispensed'].astype(str)) - pd.to_datetime(df['DateTime TTO Packing'].astype(str))).dt.total_seconds().div(60)"
   ]
  },
  {
   "cell_type": "code",
   "execution_count": null,
   "metadata": {},
   "outputs": [],
   "source": [
    "#Get Duration Difference of Received to Checked\n",
    "df['Time Taken (Received to Packing)'] = (df['DateTime TTO Packing'] - df['DateTime TTO Received'])\n",
    "#Get Duration Difference of Checked to Dispensed\n",
    "df['Time Taken (Packing to Dispensed)']  = (df['DateTime TTO Dispensed'] - df['DateTime TTO Packing'])"
   ]
  },
  {
   "cell_type": "code",
   "execution_count": null,
   "metadata": {},
   "outputs": [],
   "source": [
    "#Create new dataframe to get results of Average Time Taken for each (Received to Checked) & (Checked to Dispensed)\n",
    "df_avg_time = df[['Date', 'Time Taken (Received to Packing)', 'Time Taken (Packing to Dispensed)']]\n",
    "df_avg_time.head()"
   ]
  },
  {
   "cell_type": "code",
   "execution_count": null,
   "metadata": {},
   "outputs": [],
   "source": [
    "#Convert NaT to 00:00:00\n",
    "df_avg_time.loc[df_avg_time['Time Taken (Received to Packing)'].isnull(), 'Time Taken (Received to Packing)'] = pd.to_timedelta(0)\n",
    "df_avg_time.loc[df_avg_time['Time Taken (Packing to Dispensed)'].isnull(), 'Time Taken (Packing to Dispensed)'] = pd.to_timedelta(0)"
   ]
  },
  {
   "cell_type": "code",
   "execution_count": null,
   "metadata": {},
   "outputs": [],
   "source": [
    "df_avg_time.info()"
   ]
  },
  {
   "cell_type": "code",
   "execution_count": null,
   "metadata": {},
   "outputs": [],
   "source": [
    "#Get average time taken per day\n",
    "df_avg_time = df_avg_time.groupby(pd.to_datetime(df_avg_time['Date']).dt.date).mean(numeric_only=False)\n",
    "df_avg_time"
   ]
  },
  {
   "cell_type": "code",
   "execution_count": null,
   "metadata": {},
   "outputs": [],
   "source": [
    "#Rename Columns\n",
    "#df_avg_time = df_avg_time.rename({'Time Taken (Received to Packing)' : 'Avg Time Taken / Day (Received to Packing)', 'Time Taken (Packing to Dispensed)' : 'Avg Time Taken / Day (Packing to Dispensed)'}, axis=1)"
   ]
  },
  {
   "cell_type": "code",
   "execution_count": null,
   "metadata": {},
   "outputs": [],
   "source": [
    "df_avg_time = df_avg_time.reset_index(drop=True)\n",
    "df_avg_time"
   ]
  },
  {
   "cell_type": "code",
   "execution_count": null,
   "metadata": {},
   "outputs": [],
   "source": [
    "#Remove miliseconds\n",
    "df_avg_time['Time Taken (Received to Packing)'] = df_avg_time['Time Taken (Received to Packing)'].dt.floor('s')\n",
    "df_avg_time['Time Taken (Packing to Dispensed)'] = df_avg_time['Time Taken (Packing to Dispensed)'].dt.floor('s')\n",
    "\n",
    "df_avg_time"
   ]
  },
  {
   "cell_type": "markdown",
   "metadata": {},
   "source": [
    "#### Avg Time Taken / Day"
   ]
  },
  {
   "cell_type": "code",
   "execution_count": null,
   "metadata": {},
   "outputs": [],
   "source": [
    "#Rename Columns\n",
    "df_avg_time = df_avg_time.rename({'Time Taken (Received to Packing)' : 'Avg Time Taken / Day (Received to Packing)', 'Time Taken (Packing to Dispensed)' : 'Avg Time Taken / Day (Packing to Dispensed)'}, axis=1)"
   ]
  },
  {
   "cell_type": "code",
   "execution_count": null,
   "metadata": {},
   "outputs": [],
   "source": [
    "#Merge the results from grouby for Avg Time Taken\n",
    "df = df.merge(df_avg_time, on='Date', how='left')\n",
    "df"
   ]
  },
  {
   "cell_type": "code",
   "execution_count": null,
   "metadata": {},
   "outputs": [],
   "source": [
    "#Replace 00:00:00 in time columns with np.NaN\n",
    "columns = ['Time Taken (Received to Packing)', \n",
    "               'Time Taken (Packing to Dispensed)', \n",
    "               \"Avg Time Taken / Day (Received to Packing)\", \n",
    "               \"Avg Time Taken / Day (Packing to Dispensed)\"]\n",
    "\n",
    "\n",
    "for column in columns:\n",
    "    df[column] = df[column].replace(pd.Timedelta(0), np.NaN)"
   ]
  },
  {
   "cell_type": "markdown",
   "metadata": {},
   "source": [
    "#### Avg Time Taken / Month"
   ]
  },
  {
   "cell_type": "code",
   "execution_count": null,
   "metadata": {},
   "outputs": [],
   "source": [
    "df['Month']= pd.to_datetime(df['Date']).dt.month_name()"
   ]
  },
  {
   "cell_type": "code",
   "execution_count": null,
   "metadata": {},
   "outputs": [],
   "source": [
    "dfinal_avg_time = df[['Date', 'Time Taken (Received to Packing)', 'Time Taken (Packing to Dispensed)']]\n",
    "\n",
    "dfinal_avg_time['Month']= pd.to_datetime(dfinal_avg_time['Date']).dt.month_name()\n",
    "\n",
    "#Get average time taken per month\n",
    "dfinal_avg_time= dfinal_avg_time.groupby('Month').agg({'Time Taken (Received to Packing)': np.sum, 'Time Taken (Packing to Dispensed)': np.sum})\n",
    "\n",
    "x = dfinal_avg_time['Time Taken (Received to Packing)'] / np.timedelta64(1, 'm')\n",
    "y = df.groupby('Month')['Time Taken (Received to Packing)'].count()\n",
    "\n",
    "dfinal_avg_time['Avg Time Taken / Month (Received to Packing)'] = (x/y)\n",
    "\n",
    "dfinal_avg_time['Avg Time Taken / Month (Received to Packing)'] = pd.to_datetime(dfinal_avg_time['Avg Time Taken / Month (Received to Packing)'], unit='m').apply(lambda x: x.strftime(\"%H:%M:%S\"))"
   ]
  },
  {
   "cell_type": "code",
   "execution_count": null,
   "metadata": {},
   "outputs": [],
   "source": [
    "a = dfinal_avg_time['Time Taken (Packing to Dispensed)'] / np.timedelta64(1, 'm')\n",
    "b = df.groupby('Month')['Time Taken (Packing to Dispensed)'].count()\n",
    "\n",
    "dfinal_avg_time['Avg Time Taken / Month (Packing to Dispensed)'] = (a/b)\n",
    "\n",
    "dfinal_avg_time['Avg Time Taken / Month (Packing to Dispensed)'] = pd.to_datetime(dfinal_avg_time['Avg Time Taken / Month (Packing to Dispensed)'], unit='m').apply(lambda x: x.strftime(\"%H:%M:%S\"))"
   ]
  },
  {
   "cell_type": "code",
   "execution_count": null,
   "metadata": {},
   "outputs": [],
   "source": [
    "dfinal_avg_time = dfinal_avg_time.drop(dfinal_avg_time.columns[[0, 1]], axis=1)"
   ]
  },
  {
   "cell_type": "code",
   "execution_count": null,
   "metadata": {},
   "outputs": [],
   "source": [
    "df = df.merge(dfinal_avg_time, on='Month', how='left')\n",
    "df"
   ]
  },
  {
   "cell_type": "code",
   "execution_count": null,
   "metadata": {},
   "outputs": [],
   "source": [
    "df['Avg Time Taken / Month (Received to Packing)'] = pd.to_timedelta(df['Avg Time Taken / Month (Received to Packing)'])\n",
    "df['Avg Time Taken / Month (Packing to Dispensed)'] = pd.to_timedelta(df['Avg Time Taken / Month (Packing to Dispensed)'])"
   ]
  },
  {
   "cell_type": "code",
   "execution_count": null,
   "metadata": {},
   "outputs": [],
   "source": [
    "tto_received = pd.to_datetime(df['DateTime TTO Received'].astype(str)) \n",
    "tto_packing = pd.to_datetime(df[df['DateTime TTO Packing'] != '']['DateTime TTO Packing'].astype(str))\n",
    "\n",
    "#df[df['Time Taken to Reach Pt (mins)'] == 'PBH']\n",
    "df['Time Taken to Pack'] = tto_packing.sub(tto_received).dt.total_seconds().div(60)"
   ]
  },
  {
   "cell_type": "markdown",
   "metadata": {},
   "source": [
    "#### Replace those with negative value to empty since it is PBH "
   ]
  },
  {
   "cell_type": "code",
   "execution_count": null,
   "metadata": {},
   "outputs": [],
   "source": [
    "df['Time Taken to Pack'] = df['Time Taken to Pack'].apply(lambda x : x if x >= 0 else np.nan)"
   ]
  },
  {
   "cell_type": "code",
   "execution_count": null,
   "metadata": {},
   "outputs": [],
   "source": [
    "df['Time Taken to Pack'].mask( df['Time Taken To Pack (mins)'] == 'PBH', 'PBH' , inplace=True )"
   ]
  },
  {
   "cell_type": "code",
   "execution_count": null,
   "metadata": {},
   "outputs": [],
   "source": [
    "df"
   ]
  },
  {
   "cell_type": "code",
   "execution_count": null,
   "metadata": {},
   "outputs": [],
   "source": [
    "df.info()"
   ]
  },
  {
   "cell_type": "code",
   "execution_count": null,
   "metadata": {},
   "outputs": [],
   "source": [
    "# fill empty Time taken (received to packing) & (packing to dispensed) with PBH\n",
    "#df['Time Taken (Received to Packing)'] = np.where(df['Time Taken to Pack'] == 'PBH', 'PBH', df['Time Taken (Received to Packing)'])\n",
    "df['Time Taken (Received to Packing)'] = df['Time Taken (Received to Packing)'].fillna('PBH')\n",
    "df['Time Taken (Packing to Dispensed)'] = df['Time Taken (Packing to Dispensed)'].fillna('PBH')"
   ]
  },
  {
   "cell_type": "code",
   "execution_count": null,
   "metadata": {},
   "outputs": [],
   "source": [
    "#df[[\"Time TTO Received\", \"Time TTO Dispensed\"]] = df[[\"Time TTO Received\", \"Time TTO Dispensed\"]].apply(pd.to_datetime(format='%H:%M') - pd.to_datetime(format='%H:%M').dt.normalize())\n"
   ]
  },
  {
   "cell_type": "code",
   "execution_count": null,
   "metadata": {},
   "outputs": [],
   "source": [
    "#df[\"Time TTO Received\"] = pd.to_datetime(df[\"Time TTO Received\"],format= '%H:%M:%S')\n",
    "#df[\"Time TTO Received\"] =df[\"Time TTO Received\"].strptime('%d-%b-%y %I.%M.%S.%f %p')\n",
    "#df[\"Time TTO Received\"] = pd.to_timedelta(df[\"Time TTO Received\"].dt.strftime('%H:%M:%S'))"
   ]
  },
  {
   "cell_type": "code",
   "execution_count": null,
   "metadata": {},
   "outputs": [],
   "source": [
    "#df[\"Time TTO Received\"]  = pd.to_datetime(df[\"Time TTO Received\"], format='%H:%M') - pd.to_datetime(df[\"Time TTO Received\"], format='%H:%M').dt.normalize()"
   ]
  },
  {
   "cell_type": "code",
   "execution_count": null,
   "metadata": {},
   "outputs": [],
   "source": [
    "#df[\"Time TTO Received\"] = pd.Series([pd.Timedelta(minutes=i) for i in range(0,100,5)])\n",
    "#df[\"Time TTO Received\"]= df[\"Time TTO Received\"].astype(str).str.split('0 days ').str[-1]"
   ]
  },
  {
   "cell_type": "code",
   "execution_count": null,
   "metadata": {},
   "outputs": [],
   "source": [
    "#df[\"Time TTO Received\"]  = pd.to_datetime(df[\"Time TTO Received\"] , errors='coerce')"
   ]
  },
  {
   "cell_type": "markdown",
   "metadata": {},
   "source": [
    "### Step 14: Map Room/Bed No. to Ward No.\n",
    "\n",
    "Match Room/Bed No. to the corresponding Ward No."
   ]
  },
  {
   "cell_type": "markdown",
   "metadata": {},
   "source": [
    "#### Combining Excel Tabs for MNH Ward Dataset"
   ]
  },
  {
   "cell_type": "code",
   "execution_count": null,
   "metadata": {},
   "outputs": [],
   "source": [
    "f_ward = '../../Data/Pharmacy Dept/MNH TTO Data/MNH Wards.xlsx'\n",
    "df_ward = pd.read_excel(f_ward, sheet_name=None)\n",
    "dfinal_ward = pd.concat(df_ward, ignore_index=True)\n",
    "\n",
    "dfinal_ward.head()"
   ]
  },
  {
   "cell_type": "code",
   "execution_count": null,
   "metadata": {},
   "outputs": [],
   "source": [
    "dfinal_ward"
   ]
  },
  {
   "cell_type": "code",
   "execution_count": null,
   "metadata": {},
   "outputs": [],
   "source": [
    "dfinal_ward.info()"
   ]
  },
  {
   "cell_type": "code",
   "execution_count": null,
   "metadata": {},
   "outputs": [],
   "source": [
    "# concat with the original ward df\n",
    "#dfinal_ward = pd.concat([dfinal_ward, df_invalid_ward], ignore_index=True, sort=False)\n",
    "#dfinal_ward"
   ]
  },
  {
   "cell_type": "code",
   "execution_count": null,
   "metadata": {},
   "outputs": [],
   "source": [
    "dfinal_ward.to_csv(\"../../Data/Pharmacy Dept/MNH TTO Data/MNH Wards Merged.csv\", index=None, header=True)"
   ]
  },
  {
   "cell_type": "markdown",
   "metadata": {},
   "source": [
    "#### Merge Ward No. based on Room/Bed No."
   ]
  },
  {
   "cell_type": "code",
   "execution_count": null,
   "metadata": {},
   "outputs": [],
   "source": [
    "df_ward = pd.read_csv(\"../../Data/Pharmacy Dept/MNH TTO Data/MNH Wards Merged.csv\")"
   ]
  },
  {
   "cell_type": "code",
   "execution_count": null,
   "metadata": {},
   "outputs": [],
   "source": [
    "dfinal = pd.merge(df, df_ward, how='left', left_on=['Room/Bed'], right_on=['Room No'])\n",
    "\n",
    "dfinal.head()"
   ]
  },
  {
   "cell_type": "code",
   "execution_count": null,
   "metadata": {},
   "outputs": [],
   "source": [
    "df_x = dfinal[dfinal['Ward'].isnull()]"
   ]
  },
  {
   "cell_type": "code",
   "execution_count": null,
   "metadata": {},
   "outputs": [],
   "source": [
    "#fixing values in Bed no. that are actually referring to the Ward, and match its corresponding in the Ward column\n",
    "#dfinal.loc[(dfinal['Room/Bed'].str.contains('eye', case=False, na=False)) | (dfinal['Room/Bed'].str.contains('edw', case=False)), 'Ward'] = 'Eyedayward'\n",
    "#dfinal.loc[(dfinal['Room/Bed'].str.contains('DS', case=False, na=False)), 'Ward'] = 'DS'\n",
    "#dfinal.loc[(dfinal['Room/Bed'].str.contains('endo', case=False, na=False)), 'Ward'] = 'Endo'"
   ]
  },
  {
   "cell_type": "code",
   "execution_count": null,
   "metadata": {},
   "outputs": [],
   "source": [
    "df_invalid_ward = pd.read_csv(\"../../Data/Pharmacy Dept/MNH TTO Data/MNH_invalid_BedNo_edit.csv\")\n",
    "df_invalid_ward = df_invalid_ward[['Case Number', 'Room No', 'Ward']]\n",
    "df_invalid_ward"
   ]
  },
  {
   "cell_type": "code",
   "execution_count": null,
   "metadata": {},
   "outputs": [],
   "source": [
    "df_invalid_ward.info()"
   ]
  },
  {
   "cell_type": "code",
   "execution_count": null,
   "metadata": {},
   "outputs": [],
   "source": [
    "#dfinal_1['X'] = np.where(dfinal['Case Number'] == df_invalid_ward['Case Number'], 'True', 'False')"
   ]
  },
  {
   "cell_type": "code",
   "execution_count": null,
   "metadata": {},
   "outputs": [],
   "source": [
    "dfinal_1 = pd.merge(df_x, df_invalid_ward, on='Case Number')\n",
    "#dfinal = pd.merge(dfinal, df_invalid_ward, how='left', left_on=['Room/Bed'], right_on=['Room No'])\n",
    "dfinal_1 = dfinal_1.drop(['Room No_x', 'Ward_x'], axis=1)\n",
    "dfinal_1.rename({'Room No_y': 'Room No', 'Ward_y':'Ward'}, axis=1, inplace=True)\n",
    "dfinal_1"
   ]
  },
  {
   "cell_type": "code",
   "execution_count": null,
   "metadata": {},
   "outputs": [],
   "source": [
    "dfinal = dfinal[dfinal['Ward'].notnull()]\n",
    "dfinal"
   ]
  },
  {
   "cell_type": "code",
   "execution_count": null,
   "metadata": {},
   "outputs": [],
   "source": [
    "dfinal = pd.concat([dfinal, dfinal_1], ignore_index=True, sort=False)\n",
    "dfinal"
   ]
  },
  {
   "cell_type": "code",
   "execution_count": null,
   "metadata": {},
   "outputs": [],
   "source": [
    "dfinal.drop(['Room No'], axis=1, inplace=True)"
   ]
  },
  {
   "cell_type": "code",
   "execution_count": null,
   "metadata": {},
   "outputs": [],
   "source": [
    "dfinal"
   ]
  },
  {
   "cell_type": "markdown",
   "metadata": {},
   "source": [
    "## Step 15: Export CLEANED to csv"
   ]
  },
  {
   "cell_type": "code",
   "execution_count": null,
   "metadata": {},
   "outputs": [],
   "source": [
    "dfinal.to_csv(\"../../Data/Pharmacy Dept/Data Cleaning/MNH_Data_Cleaned.csv\", index = None, header=True)"
   ]
  },
  {
   "cell_type": "code",
   "execution_count": null,
   "metadata": {},
   "outputs": [],
   "source": []
  }
 ],
 "metadata": {
  "kernelspec": {
   "display_name": "Python 3",
   "language": "python",
   "name": "python3"
  },
  "language_info": {
   "codemirror_mode": {
    "name": "ipython",
    "version": 3
   },
   "file_extension": ".py",
   "mimetype": "text/x-python",
   "name": "python",
   "nbconvert_exporter": "python",
   "pygments_lexer": "ipython3",
   "version": "3.6.5"
  }
 },
 "nbformat": 4,
 "nbformat_minor": 4
}
