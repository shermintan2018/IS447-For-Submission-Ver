{
 "cells": [
  {
   "cell_type": "markdown",
   "metadata": {},
   "source": [
    "# Pharmacy Department - Text Analysis\n",
    "\n",
    "In this section, we will look at the 'Remarks' section to see if there are any significant results if we perform text analysis. "
   ]
  },
  {
   "cell_type": "code",
   "execution_count": null,
   "metadata": {},
   "outputs": [],
   "source": [
    "import pandas as pd\n",
    "import numpy as np"
   ]
  },
  {
   "cell_type": "code",
   "execution_count": null,
   "metadata": {},
   "outputs": [],
   "source": [
    "df = pd.read_csv('../../Data/Pharmacy Dept/Data Cleaning/Merged_Pharmacy_Dept_CLEANED.csv')"
   ]
  },
  {
   "cell_type": "code",
   "execution_count": null,
   "metadata": {},
   "outputs": [],
   "source": [
    "df.info()"
   ]
  },
  {
   "cell_type": "code",
   "execution_count": null,
   "metadata": {},
   "outputs": [],
   "source": [
    "df"
   ]
  },
  {
   "cell_type": "markdown",
   "metadata": {},
   "source": [
    "# Analyze those with missing KPI or did not meet KPI"
   ]
  },
  {
   "cell_type": "code",
   "execution_count": null,
   "metadata": {},
   "outputs": [],
   "source": [
    "df_does_not_meet_kpi = df[(df[\"Meet KPI\"].isnull()) | (df[\"Meet KPI\"]=='No')]\n",
    "df_does_not_meet_kpi"
   ]
  },
  {
   "cell_type": "code",
   "execution_count": null,
   "metadata": {},
   "outputs": [],
   "source": [
    "df2 = df_does_not_meet_kpi[df_does_not_meet_kpi.Remarks.notnull()]"
   ]
  },
  {
   "cell_type": "code",
   "execution_count": null,
   "metadata": {},
   "outputs": [],
   "source": [
    "df2"
   ]
  },
  {
   "cell_type": "code",
   "execution_count": null,
   "metadata": {},
   "outputs": [],
   "source": [
    "#df_does_not_meet_kpi['Remarks'] = df_does_not_meet_kpi['Remarks'].astype(str)\n",
    "#df_does_not_meet_kpi['word_count'] = df_does_not_meet_kpi['Remarks'].apply(lambda x : len(x.split()))\n",
    "#df_does_not_meet_kpi['char_count'] = df_does_not_meet_kpi['Remarks'].apply(lambda x : len(x.replace(\" \",\"\")))\n",
    "#df_does_not_meet_kpi['word_density'] = df_does_not_meet_kpi['word_count'] / (df_does_not_meet_kpi['char_count'] + 1)\n",
    "#df_does_not_meet_kpi['punc_count'] = df_does_not_meet_kpi['Remarks'].apply(lambda x : len([a for a in x if a in punc]))\n",
    "\n",
    "#df_does_not_meet_kpi[['word_count', 'char_count', 'word_density']].head(10)"
   ]
  },
  {
   "cell_type": "code",
   "execution_count": null,
   "metadata": {},
   "outputs": [],
   "source": [
    "# lower casing\n",
    "df2['Remarks_Lower']= df2['Remarks'].str.lower()"
   ]
  },
  {
   "cell_type": "code",
   "execution_count": null,
   "metadata": {},
   "outputs": [],
   "source": [
    "#removal of punctuation \n",
    "df2['Remarks_Lower'] = df2['Remarks_Lower'].str.replace(r'[^\\w\\s]+', '')"
   ]
  },
  {
   "cell_type": "code",
   "execution_count": null,
   "metadata": {},
   "outputs": [],
   "source": [
    "from nltk.corpus import stopwords\n",
    "stop = stopwords.words('english')"
   ]
  },
  {
   "cell_type": "code",
   "execution_count": null,
   "metadata": {},
   "outputs": [],
   "source": [
    "#removal of stopwords\n",
    "df2['Remarks_Lower']  = df2['Remarks_Lower'].apply(lambda x: ' '.join([word for word in x.split() if word not in (stop)]))"
   ]
  },
  {
   "cell_type": "code",
   "execution_count": null,
   "metadata": {},
   "outputs": [],
   "source": [
    "df2"
   ]
  },
  {
   "cell_type": "code",
   "execution_count": null,
   "metadata": {},
   "outputs": [],
   "source": [
    "from collections import Counter\n",
    "cnt = Counter()\n",
    "for text in df2['Remarks_Lower'].values:\n",
    "    for word in text.split():\n",
    "        cnt[word] += 1\n",
    "        \n",
    "cnt.most_common(10)"
   ]
  },
  {
   "cell_type": "code",
   "execution_count": null,
   "metadata": {},
   "outputs": [],
   "source": [
    "from wordcloud import WordCloud, STOPWORDS\n",
    "import matplotlib.pyplot as plt\n",
    "word_string=\" \".join(df2['Remarks_Lower'].str.lower())\n",
    "wordcloud = WordCloud(stopwords=STOPWORDS,\n",
    "                          background_color='white', \n",
    "                      max_words=300\n",
    "                         ).generate(word_string)"
   ]
  },
  {
   "cell_type": "code",
   "execution_count": null,
   "metadata": {},
   "outputs": [],
   "source": [
    "plt.clf()\n",
    "plt.imshow(wordcloud)\n",
    "plt.axis('off')\n",
    "plt.show()"
   ]
  },
  {
   "cell_type": "code",
   "execution_count": null,
   "metadata": {},
   "outputs": [],
   "source": [
    "# for both pharm and cc\n",
    "CC: no of calls - predict no of calls in the following years by months, days \n",
    "    --> to find out what is the predicted peak in terms of month, weekday\n",
    "    \n",
    "Pharm: no of TTO - PREDICT NO OF tto in the following years by month, days "
   ]
  }
 ],
 "metadata": {
  "kernelspec": {
   "display_name": "Python 3",
   "language": "python",
   "name": "python3"
  },
  "language_info": {
   "codemirror_mode": {
    "name": "ipython",
    "version": 3
   },
   "file_extension": ".py",
   "mimetype": "text/x-python",
   "name": "python",
   "nbconvert_exporter": "python",
   "pygments_lexer": "ipython3",
   "version": "3.6.5"
  }
 },
 "nbformat": 4,
 "nbformat_minor": 4
}
