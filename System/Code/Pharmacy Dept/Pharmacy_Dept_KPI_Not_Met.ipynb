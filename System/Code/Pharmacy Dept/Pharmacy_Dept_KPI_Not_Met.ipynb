{
 "cells": [
  {
   "cell_type": "markdown",
   "metadata": {},
   "source": [
    "# Pharmacy Department - Why KPI is not met\n",
    "\n",
    "In this section, we will look at why certain cases do not meet KPI. \n",
    "\n",
    "This can due to the process time taken to complete each case or if a particular ward is overloading etc."
   ]
  },
  {
   "cell_type": "code",
   "execution_count": null,
   "metadata": {},
   "outputs": [],
   "source": [
    "import pandas as pd\n",
    "import numpy as np"
   ]
  },
  {
   "cell_type": "code",
   "execution_count": null,
   "metadata": {},
   "outputs": [],
   "source": [
    "pd.set_option('display.max_columns', None)"
   ]
  },
  {
   "cell_type": "code",
   "execution_count": null,
   "metadata": {},
   "outputs": [],
   "source": [
    "df = pd.read_csv(\"../../Data/Pharmacy Dept/Data Cleaning/Merged_Pharmacy_Dept_CLEANED.csv\")\n",
    "\n",
    "df.head()"
   ]
  },
  {
   "cell_type": "code",
   "execution_count": null,
   "metadata": {},
   "outputs": [],
   "source": [
    "df.info()"
   ]
  },
  {
   "cell_type": "markdown",
   "metadata": {},
   "source": [
    "## KPI Analysis\n",
    "\n",
    "Extracting columns that are needed to calculate the percentage of KPI met per day and per month."
   ]
  },
  {
   "cell_type": "code",
   "execution_count": null,
   "metadata": {},
   "outputs": [],
   "source": [
    "#Extract those that needed only\n",
    "df_kpi = df[['Date', 'Ward', 'Room/Bed', 'Case Number', 'Hospital', 'No. of Drugs', 'Weekday', 'Office Hours', 'TAT', 'Meet KPI', 'Process Time Issue', 'Time Taken (Received to Checked)', 'Time Taken (Checked to Dispensed)', 'Avg Time Taken / Day (Received to Checked)', 'Avg Time Taken / Day (Checked to Dispensed)', 'Avg Time Taken / Month (Received to Checked)', 'Avg Time Taken / Month (Checked to Dispensed)']]\n",
    "df_kpi"
   ]
  },
  {
   "cell_type": "code",
   "execution_count": null,
   "metadata": {},
   "outputs": [],
   "source": [
    "df_kpi[df_kpi['Meet KPI'].isnull()]"
   ]
  },
  {
   "cell_type": "markdown",
   "metadata": {},
   "source": [
    "### Percentage of KPI met / Day\n",
    "\n",
    "Understanding the percentage of KPI that are met per day. \n",
    "Taking into assumption of ignoring outliers. "
   ]
  },
  {
   "cell_type": "code",
   "execution_count": null,
   "metadata": {},
   "outputs": [],
   "source": [
    "#create new dataframe to calculate no. of KPI / day\n",
    "df_kpi_sum = df_kpi[['Date', 'Hospital', 'Meet KPI']]\n",
    "df_kpi_sum.head()"
   ]
  },
  {
   "cell_type": "code",
   "execution_count": null,
   "metadata": {},
   "outputs": [],
   "source": [
    "df_kpi_sum.isnull().sum()"
   ]
  },
  {
   "cell_type": "code",
   "execution_count": null,
   "metadata": {},
   "outputs": [],
   "source": [
    "df_kpi_sum[df_kpi_sum['Meet KPI'].isnull()]"
   ]
  },
  {
   "cell_type": "code",
   "execution_count": null,
   "metadata": {},
   "outputs": [],
   "source": [
    "#convert Meet KPI (Yes/No) to 1/0\n",
    "df_kpi_sum['Meet KPI'] = df_kpi_sum['Meet KPI'].replace(to_replace=['Yes', 'No'], value = ['1', '0'])\n",
    "df_kpi_sum"
   ]
  },
  {
   "cell_type": "code",
   "execution_count": null,
   "metadata": {},
   "outputs": [],
   "source": [
    "#drop Meet KPI = NaN\n",
    "df_kpi_sum = df_kpi_sum.dropna()"
   ]
  },
  {
   "cell_type": "code",
   "execution_count": null,
   "metadata": {},
   "outputs": [],
   "source": [
    "df_kpi_sum.isnull().sum()"
   ]
  },
  {
   "cell_type": "code",
   "execution_count": null,
   "metadata": {},
   "outputs": [],
   "source": [
    "#set Meet KPI type as int\n",
    "df_kpi_sum['Meet KPI'] = df_kpi_sum['Meet KPI'].astype(str).astype(int)"
   ]
  },
  {
   "cell_type": "code",
   "execution_count": null,
   "metadata": {},
   "outputs": [],
   "source": [
    "#Get No. of Cases that Meet KPI per day\n",
    "df_kpi_sum_day = df_kpi_sum.groupby(['Hospital', pd.to_datetime(df_kpi_sum['Date']).dt.date]).sum()\n",
    "df_kpi_sum_day"
   ]
  },
  {
   "cell_type": "code",
   "execution_count": null,
   "metadata": {},
   "outputs": [],
   "source": [
    "#create new dataframe to calculate No. of Cases / Day\n",
    "df_case_sum = df_kpi[['Date', 'Hospital', 'Meet KPI']]\n",
    "df_case_sum"
   ]
  },
  {
   "cell_type": "code",
   "execution_count": null,
   "metadata": {},
   "outputs": [],
   "source": [
    "df_case_sum.isnull().sum()"
   ]
  },
  {
   "cell_type": "code",
   "execution_count": null,
   "metadata": {},
   "outputs": [],
   "source": [
    "df_case_sum = df_case_sum[df_case_sum['Meet KPI'].notnull()]\n",
    "df_case_sum['Case Count'] = 1\n",
    "df_case_sum"
   ]
  },
  {
   "cell_type": "code",
   "execution_count": null,
   "metadata": {},
   "outputs": [],
   "source": [
    "df_case_sum.drop(['Meet KPI'], axis=1, inplace=True)"
   ]
  },
  {
   "cell_type": "code",
   "execution_count": null,
   "metadata": {},
   "outputs": [],
   "source": [
    "#Get No. of Cases Per Day\n",
    "df_case_sum_day = df_case_sum.groupby(['Hospital', pd.to_datetime(df_case_sum['Date']).dt.date]).sum()\n",
    "df_case_sum_day"
   ]
  },
  {
   "cell_type": "code",
   "execution_count": null,
   "metadata": {},
   "outputs": [],
   "source": [
    "#merge both No. of Cases that meet KPI and No. Cases / Day\n",
    "df_kpi_percent_day = pd.merge(df_kpi_sum_day, df_case_sum_day, on=['Hospital', 'Date'])\n",
    "df_kpi_percent_day"
   ]
  },
  {
   "cell_type": "code",
   "execution_count": null,
   "metadata": {},
   "outputs": [],
   "source": [
    "df_kpi_percent_day['%KPI / Day'] = df_kpi_percent_day['Meet KPI']/df_kpi_percent_day['Case Count']\n",
    "df_kpi_percent_day"
   ]
  },
  {
   "cell_type": "code",
   "execution_count": null,
   "metadata": {},
   "outputs": [],
   "source": [
    "#if 85% meet KPI / day: Yes, Else No\n",
    "df_kpi_percent_day['85% Meet KPI / Day'] = np.where((df_kpi_percent_day['%KPI / Day'] >= 0.85), 'Yes', 'No')\n",
    "df_kpi_percent_day"
   ]
  },
  {
   "cell_type": "markdown",
   "metadata": {},
   "source": [
    "### Percentage of KPI met / Month\n",
    "\n",
    "Understanding the percentage of KPI that are met per month. Taking into assumption of ignoring outliers. "
   ]
  },
  {
   "cell_type": "code",
   "execution_count": null,
   "metadata": {},
   "outputs": [],
   "source": [
    "#Get No. of KPI met Per Month\n",
    "df_kpi_sum_mth = df_kpi_sum.groupby(['Hospital', pd.to_datetime(df_kpi_sum['Date']).dt.month]).sum()\n",
    "df_kpi_sum_mth"
   ]
  },
  {
   "cell_type": "code",
   "execution_count": null,
   "metadata": {},
   "outputs": [],
   "source": [
    "#Get No. of Cases Per Month\n",
    "df_case_sum_mth = df_case_sum.groupby(['Hospital', pd.to_datetime(df_case_sum['Date']).dt.month]).sum()\n",
    "df_case_sum_mth"
   ]
  },
  {
   "cell_type": "code",
   "execution_count": null,
   "metadata": {},
   "outputs": [],
   "source": [
    "#merge both No. of Cases that meet KPI and No. Cases / Month\n",
    "df_kpi_percent_mth = pd.merge(df_kpi_sum_mth, df_case_sum_mth, on=['Hospital', 'Date'])\n",
    "df_kpi_percent_mth"
   ]
  },
  {
   "cell_type": "code",
   "execution_count": null,
   "metadata": {},
   "outputs": [],
   "source": [
    "df_kpi_percent_mth['%KPI / Mth'] = df_kpi_percent_mth['Meet KPI']/df_kpi_percent_mth['Case Count']\n",
    "df_kpi_percent_mth"
   ]
  },
  {
   "cell_type": "code",
   "execution_count": null,
   "metadata": {},
   "outputs": [],
   "source": [
    "#if 85% meet KPI / day: Yes, Else No\n",
    "df_kpi_percent_mth['85% Meet KPI / Mth'] = np.where((df_kpi_percent_mth['%KPI / Mth'] >= 0.85), 'Yes', 'No')\n",
    "df_kpi_percent_mth"
   ]
  },
  {
   "cell_type": "markdown",
   "metadata": {},
   "source": [
    "### Understanding the difference between KPI met / Day and / Month"
   ]
  },
  {
   "cell_type": "markdown",
   "metadata": {},
   "source": [
    "#### Merge KPI met /  Day and / Month"
   ]
  },
  {
   "cell_type": "code",
   "execution_count": null,
   "metadata": {},
   "outputs": [],
   "source": [
    "#reset index\n",
    "df_kpi_percent_day = df_kpi_percent_day.reset_index()\n",
    "df_kpi_percent_day.head()"
   ]
  },
  {
   "cell_type": "code",
   "execution_count": null,
   "metadata": {},
   "outputs": [],
   "source": [
    "#reset index\n",
    "df_kpi_percent_mth = df_kpi_percent_mth.reset_index()\n",
    "df_kpi_percent_mth.head()"
   ]
  },
  {
   "cell_type": "code",
   "execution_count": null,
   "metadata": {},
   "outputs": [],
   "source": [
    "#add Month column to both df for easy merge\n",
    "df_kpi_percent_day['Month'] = pd.to_datetime(df_kpi_percent_day['Date']).dt.month_name()\n",
    "df_kpi_percent_mth['Month'] = pd.to_datetime(df_kpi_percent_mth['Date'], format='%m').dt.month_name()"
   ]
  },
  {
   "cell_type": "code",
   "execution_count": null,
   "metadata": {},
   "outputs": [],
   "source": [
    "#rename variables for merge\n",
    "df_kpi_percent_day.rename(columns={'Meet KPI':'Meet KPI / Day', 'Case Count':'Case Count / Day'}, inplace=True)\n",
    "df_kpi_percent_mth.rename(columns={'Meet KPI':'Meet KPI / Mth', 'Case Count':'Case Count / Mth'}, inplace=True)"
   ]
  },
  {
   "cell_type": "code",
   "execution_count": null,
   "metadata": {},
   "outputs": [],
   "source": [
    "df_kpi_percent_day.head()"
   ]
  },
  {
   "cell_type": "code",
   "execution_count": null,
   "metadata": {},
   "outputs": [],
   "source": [
    "df_kpi_percent_mth.head()"
   ]
  },
  {
   "cell_type": "code",
   "execution_count": null,
   "metadata": {},
   "outputs": [],
   "source": [
    "dfinal_kpi_percent = pd.merge(df_kpi_percent_day, df_kpi_percent_mth, on=['Hospital', 'Month'], how='left')\n",
    "dfinal_kpi_percent"
   ]
  },
  {
   "cell_type": "code",
   "execution_count": null,
   "metadata": {},
   "outputs": [],
   "source": [
    "#drop Date_y, Month\n",
    "dfinal_kpi_percent.drop(['Month', 'Date_y'], axis=1, inplace=True)\n",
    "#rename Date_x to Date\n",
    "dfinal_kpi_percent.rename(columns={'Date_x':\"Date\"}, inplace=True)"
   ]
  },
  {
   "cell_type": "code",
   "execution_count": null,
   "metadata": {},
   "outputs": [],
   "source": [
    "dfinal_kpi_percent"
   ]
  },
  {
   "cell_type": "markdown",
   "metadata": {},
   "source": [
    "#### Merge ALL KPI new indicators with Original KPI df"
   ]
  },
  {
   "cell_type": "code",
   "execution_count": null,
   "metadata": {},
   "outputs": [],
   "source": [
    "#convert Date to DateTime format\n",
    "df_kpi['Date'] = pd.to_datetime(df_kpi['Date'], format='%Y-%m-%d').dt.date\n",
    "dfinal_kpi_percent['Date'] = pd.to_datetime(dfinal_kpi_percent['Date'], format='%Y-%m-%d').dt.date"
   ]
  },
  {
   "cell_type": "code",
   "execution_count": null,
   "metadata": {},
   "outputs": [],
   "source": [
    "dfinal_kpi = pd.merge(df_kpi, dfinal_kpi_percent, on=['Date', 'Hospital'], how='left')\n",
    "dfinal_kpi"
   ]
  },
  {
   "cell_type": "markdown",
   "metadata": {},
   "source": [
    "#### Extracting KPI == NO for Power BI evaluation"
   ]
  },
  {
   "cell_type": "code",
   "execution_count": null,
   "metadata": {},
   "outputs": [],
   "source": [
    "dfinal_kpi_NO = dfinal_kpi[dfinal_kpi['Meet KPI']=='No']"
   ]
  },
  {
   "cell_type": "code",
   "execution_count": null,
   "metadata": {},
   "outputs": [],
   "source": [
    "dfinal_kpi_NO.info()"
   ]
  },
  {
   "cell_type": "markdown",
   "metadata": {},
   "source": [
    "## Export to CSV"
   ]
  },
  {
   "cell_type": "code",
   "execution_count": null,
   "metadata": {},
   "outputs": [],
   "source": [
    "dfinal_kpi_NO.to_csv(\"../../Data/Pharmacy Dept/Why_KPI_Not_Met.csv\", index=None, header=True)"
   ]
  }
 ],
 "metadata": {
  "interpreter": {
   "hash": "40d3a090f54c6569ab1632332b64b2c03c39dcf918b08424e98f38b5ae0af88f"
  },
  "kernelspec": {
   "display_name": "Python 3.8.3 ('base')",
   "language": "python",
   "name": "python3"
  },
  "language_info": {
   "codemirror_mode": {
    "name": "ipython",
    "version": 3
   },
   "file_extension": ".py",
   "mimetype": "text/x-python",
   "name": "python",
   "nbconvert_exporter": "python",
   "pygments_lexer": "ipython3",
   "version": "3.8.3"
  },
  "orig_nbformat": 4
 },
 "nbformat": 4,
 "nbformat_minor": 2
}
