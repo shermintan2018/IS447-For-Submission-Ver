{
 "cells": [
  {
   "cell_type": "markdown",
   "metadata": {},
   "source": [
    "# PEH Pharmacy Department"
   ]
  },
  {
   "cell_type": "markdown",
   "metadata": {},
   "source": [
    "## Step 1: Import necessary packages"
   ]
  },
  {
   "cell_type": "code",
   "execution_count": null,
   "metadata": {},
   "outputs": [],
   "source": [
    "import pandas as pd\n",
    "import numpy as np"
   ]
  },
  {
   "cell_type": "code",
   "execution_count": null,
   "metadata": {},
   "outputs": [],
   "source": [
    "pd.set_option('display.max_columns', None)"
   ]
  },
  {
   "cell_type": "markdown",
   "metadata": {},
   "source": [
    "## Initial Data Cleaning"
   ]
  },
  {
   "cell_type": "markdown",
   "metadata": {},
   "source": [
    "### Step 2: Read and combine all excel tabs into one"
   ]
  },
  {
   "cell_type": "code",
   "execution_count": null,
   "metadata": {},
   "outputs": [],
   "source": [
    "#Combining all Excel sheets into one --Assuming all have the same headers\n",
    "\n",
    "f = '../../Data/Pharmacy Dept/PEH TTO Data/PEH TTO Data.xlsx'\n",
    "df = pd.read_excel(f, sheet_name=None)\n",
    "df2 = pd.concat(df, ignore_index=True)\n",
    "\n",
    "df2.head()"
   ]
  },
  {
   "cell_type": "markdown",
   "metadata": {},
   "source": [
    "### Step 3: Drop unnecessary columns "
   ]
  },
  {
   "cell_type": "code",
   "execution_count": null,
   "metadata": {},
   "outputs": [],
   "source": [
    "df2.drop(df2.columns[df2.columns.str.contains('Unnamed')], axis=1, inplace=True)\n",
    "df2.head()"
   ]
  },
  {
   "cell_type": "code",
   "execution_count": null,
   "metadata": {},
   "outputs": [],
   "source": [
    "df2.info()"
   ]
  },
  {
   "cell_type": "code",
   "execution_count": null,
   "metadata": {},
   "outputs": [],
   "source": [
    "df2.dropna(axis = 0, how = 'all', inplace = True)\n",
    "df2.info()"
   ]
  },
  {
   "cell_type": "code",
   "execution_count": null,
   "metadata": {},
   "outputs": [],
   "source": [
    "df2.tail()"
   ]
  },
  {
   "cell_type": "code",
   "execution_count": null,
   "metadata": {},
   "outputs": [],
   "source": [
    "df2.drop(df2.tail(3).index,inplace=True) "
   ]
  },
  {
   "cell_type": "code",
   "execution_count": null,
   "metadata": {},
   "outputs": [],
   "source": [
    "df2.tail()"
   ]
  },
  {
   "cell_type": "markdown",
   "metadata": {},
   "source": [
    "### Step 4: Export to CSV from Excel"
   ]
  },
  {
   "cell_type": "code",
   "execution_count": null,
   "metadata": {},
   "outputs": [],
   "source": [
    "#export to csv\n",
    "df2.to_csv('../../Data/Pharmacy Dept/PEH TTO Data/PEH_TTO_Data_Merged.csv', header=True,index=False)"
   ]
  },
  {
   "cell_type": "markdown",
   "metadata": {},
   "source": [
    "## Data Cleaning"
   ]
  },
  {
   "cell_type": "markdown",
   "metadata": {},
   "source": [
    "### Step 5: Read merged csv file"
   ]
  },
  {
   "cell_type": "code",
   "execution_count": null,
   "metadata": {},
   "outputs": [],
   "source": [
    "#read csv for further cleaning\n",
    "df_csv = pd.read_csv('../../Data/Pharmacy Dept/PEH TTO Data/PEH_TTO_Data_Merged.csv')\n",
    "df_csv"
   ]
  },
  {
   "cell_type": "code",
   "execution_count": null,
   "metadata": {},
   "outputs": [],
   "source": [
    "df_csv.info()"
   ]
  },
  {
   "cell_type": "markdown",
   "metadata": {},
   "source": [
    "### Step 6: Handle Missing Values"
   ]
  },
  {
   "cell_type": "code",
   "execution_count": null,
   "metadata": {},
   "outputs": [],
   "source": [
    "df_csv.notnull().sum()"
   ]
  },
  {
   "cell_type": "code",
   "execution_count": null,
   "metadata": {},
   "outputs": [],
   "source": [
    "df_csv.isnull().sum()"
   ]
  },
  {
   "cell_type": "markdown",
   "metadata": {},
   "source": [
    "#### Empty Case Number"
   ]
  },
  {
   "cell_type": "code",
   "execution_count": null,
   "metadata": {},
   "outputs": [],
   "source": [
    "#What do 'Empty' Case Number means even if the system tracked a medication dispensed record?\n",
    "\n",
    "df_csv[df_csv['Case Number'].isnull()]"
   ]
  },
  {
   "cell_type": "code",
   "execution_count": null,
   "metadata": {},
   "outputs": [],
   "source": [
    "df_csv = df_csv.dropna(subset=['Date'])\n",
    "\n",
    "df_csv.isnull().sum()"
   ]
  },
  {
   "cell_type": "code",
   "execution_count": null,
   "metadata": {},
   "outputs": [],
   "source": [
    "df_csv[df_csv['Case Number'].isnull()]"
   ]
  },
  {
   "cell_type": "code",
   "execution_count": null,
   "metadata": {},
   "outputs": [],
   "source": [
    "#Affix \"EMPTY\" if Case Number = NaN\n",
    "df_csv.loc[df_csv['Case Number'].isnull(), 'Case Number'] = \"EMPTY\""
   ]
  },
  {
   "cell_type": "code",
   "execution_count": null,
   "metadata": {},
   "outputs": [],
   "source": [
    "df_csv[df_csv['Case Number'] == \"EMPTY\"]"
   ]
  },
  {
   "cell_type": "markdown",
   "metadata": {},
   "source": [
    "### Step 7: Rename Columns"
   ]
  },
  {
   "cell_type": "code",
   "execution_count": null,
   "metadata": {},
   "outputs": [],
   "source": [
    "#Rename Columns for future standardization\n",
    "new_cols_name = {'Room': 'Room/Bed',\n",
    "                'Verified': 'DateTime TTO Received', \n",
    "                'Meds Sent Down': 'DateTime (Meds Sent Down)', \n",
    "                'Checked': 'DateTime TTO Checked', \n",
    "                'Counselled': 'DateTime (Counselled)', \n",
    "                'Remarks\\n(input paeds if it is a 4P patient in 4A)': 'Remarks', \n",
    "                'Checked by Pharmacist': 'Checked By (Pharmacist)', \n",
    "                'Time to Ready for Collection': 'Time Taken (Ready for Collection)', \n",
    "                'Time to Counselling': 'Time Taken (to Counselling)', \n",
    "                'No. of Items': 'No. of Drugs',\n",
    "                'PML given?': 'PML',\n",
    "                'If not given, WHY?! If given, were any interventions needed?': 'No PML Remarks'}\n",
    "\n",
    "df_csv.rename(columns=new_cols_name, inplace=True)\n",
    "\n",
    "df_csv.head()"
   ]
  },
  {
   "cell_type": "markdown",
   "metadata": {},
   "source": [
    "### Step 8: Fix Data Type(s) for Time"
   ]
  },
  {
   "cell_type": "code",
   "execution_count": null,
   "metadata": {},
   "outputs": [],
   "source": [
    "#Add Date to Time Only Columns\n",
    "df_csv.loc[:,'DateTime TTO Received'] = pd.to_datetime((df_csv['Date'].astype(str) + ' ' + df_csv['DateTime TTO Received'].astype(str)), infer_datetime_format=True, errors='coerce')\n",
    "df_csv.loc[:,'DateTime (Meds Sent Down)'] = pd.to_datetime((df_csv['Date'].astype(str) + ' ' + df_csv['DateTime (Meds Sent Down)'].astype(str)), infer_datetime_format=True, errors='coerce')\n",
    "df_csv.loc[:,'DateTime TTO Checked'] = pd.to_datetime((df_csv['Date'].astype(str) + ' ' + df_csv['DateTime TTO Checked'].astype(str)), infer_datetime_format=True, errors='coerce')\n",
    "df_csv.loc[:,'DateTime (Counselled)'] = pd.to_datetime((df_csv['Date'].astype(str) + ' ' + df_csv['DateTime (Counselled)'].astype(str)), infer_datetime_format=True, errors='coerce')"
   ]
  },
  {
   "cell_type": "code",
   "execution_count": null,
   "metadata": {},
   "outputs": [],
   "source": [
    "#Change 'Date' Column to datetime\n",
    "df_csv['Date'] = pd.to_datetime(df_csv['Date'], infer_datetime_format=True, errors='coerce')"
   ]
  },
  {
   "cell_type": "code",
   "execution_count": null,
   "metadata": {},
   "outputs": [],
   "source": [
    "#Change 'Date' Column to datetime.dt.date\n",
    "df_csv['Date'] = df_csv['Date'].dt.date"
   ]
  },
  {
   "cell_type": "code",
   "execution_count": null,
   "metadata": {},
   "outputs": [],
   "source": [
    "#FIXED with latest dataset\n",
    "\n",
    "#Drop invalid Time (Case Number: 3021022234, 3021022185, 3021026234, 3021032879, 3021032837, 3021000560)\n",
    "#Drop invalid Date (Date: 'dfdfdf', Case Number: 3021031272)\n",
    "#Dropped externally as format do not fit"
   ]
  },
  {
   "cell_type": "code",
   "execution_count": null,
   "metadata": {},
   "outputs": [],
   "source": [
    "#Change 'Time TTO Received', 'Time (Meds Sent Down)', 'Time TTO Checked', 'Time (Counselled)'\n",
    "#       'Time Taken (Ready for Collection)', 'Time Taken (to Counselling)' \n",
    "#       Columns to datetime.dt.time\n",
    "\n",
    "#df_csv['Time TTO Received'] = pd.to_datetime(df_csv['DateTime TTO Received'], format='%H:%M:%S').dt.time\n",
    "#df_csv['Time (Meds Sent Down)'] = pd.to_datetime(df_csv['DateTime (Meds Sent Down)'], format='%H:%M:%S').dt.time\n",
    "#df_csv['Time TTO Checked'] = pd.to_datetime(df_csv['DateTime TTO Checked'], format='%H:%M:%S').dt.time\n",
    "#df_csv['Time (Counselled)'] = pd.to_datetime(df_csv['DateTime (Counselled)'], format='%H:%M:%S').dt.time\n",
    "df_csv['Time Taken (Ready for Collection)'] = pd.to_datetime(df_csv['Time Taken (Ready for Collection)'], format='%H:%M:%S').dt.time\n",
    "df_csv['Time Taken (to Counselling)'] = pd.to_datetime(df_csv['Time Taken (to Counselling)'], format='%H:%M:%S').dt.time"
   ]
  },
  {
   "cell_type": "code",
   "execution_count": null,
   "metadata": {},
   "outputs": [],
   "source": [
    "#Change 'NaT/NaN' to '00:00:00'\n",
    "\n",
    "#df_csv['Time TTO Received'] = df_csv['Time TTO Received'].fillna(pd.Timedelta(seconds=0))\n",
    "#df_csv['Time (Meds Sent Down)'] = df_csv['Time (Meds Sent Down)'].fillna(pd.Timedelta(seconds=0))\n",
    "#df_csv['Time TTO Checked'] = df_csv['Time TTO Checked'].fillna(pd.Timedelta(seconds=0))\n",
    "#df_csv['Time (Counselled)'] = df_csv['Time (Counselled)'].fillna(pd.Timedelta(seconds=0))\n",
    "#df_csv['Time Taken (Ready for Collection)'] = df_csv['Time Taken (Ready for Collection)'].fillna(pd.Timedelta(seconds=0))\n",
    "#df_csv['Time Taken (to Counselling)'] = df_csv['Time Taken (to Counselling)'].fillna(pd.Timedelta(seconds=0))"
   ]
  },
  {
   "cell_type": "code",
   "execution_count": null,
   "metadata": {},
   "outputs": [],
   "source": [
    "#Remove '0 days' in all Time data type\n",
    "\n",
    "#df_csv['Time TTO Received'] = df_csv['Time TTO Received'].astype(str).str.split('0 days ').str[-1]\n",
    "#df_csv['Time (Meds Sent Down)'] = df_csv['Time (Meds Sent Down)'].astype(str).str.split('0 days ').str[-1]\n",
    "#df_csv['Time TTO Checked'] = df_csv['Time TTO Checked'].astype(str).str.split('0 days ').str[-1]\n",
    "#df_csv['Time (Counselled)'] = df_csv['Time (Counselled)'].astype(str).str.split('0 days ').str[-1]\n",
    "#df_csv['Time Taken (Ready for Collection)'] = df_csv['Time Taken (Ready for Collection)'].astype(str).str.split('0 days ').str[-1]\n",
    "#df_csv['Time Taken (to Counselling)'] = df_csv['Time Taken (to Counselling)'].astype(str).str.split('0 days ').str[-1]"
   ]
  },
  {
   "cell_type": "code",
   "execution_count": null,
   "metadata": {},
   "outputs": [],
   "source": [
    "#reinstate into Time format again\n",
    "\n",
    "#df_csv['Time TTO Received'] = pd.to_datetime(df_csv['Time TTO Received'], format='%H:%M:%S').dt.time\n",
    "#df_csv['Time (Meds Sent Down)'] = pd.to_datetime(df_csv['Time (Meds Sent Down)'], format='%H:%M:%S').dt.time\n",
    "#df_csv['Time TTO Checked'] = pd.to_datetime(df_csv['Time TTO Checked'], format='%H:%M:%S').dt.time\n",
    "#df_csv['Time (Counselled)'] = pd.to_datetime(df_csv['Time (Counselled)'], format='%H:%M:%S').dt.time\n",
    "#df_csv['Time Taken (Ready for Collection)'] = pd.to_datetime(df_csv['Time Taken (Ready for Collection)'], format='%H:%M:%S').dt.time\n",
    "#df_csv['Time Taken (to Counselling)'] = pd.to_datetime(df_csv['Time Taken (to Counselling)'], format='%H:%M:%S').dt.time"
   ]
  },
  {
   "cell_type": "code",
   "execution_count": null,
   "metadata": {},
   "outputs": [],
   "source": [
    "df_csv.head()"
   ]
  },
  {
   "cell_type": "markdown",
   "metadata": {},
   "source": [
    "### Step 9: Fix NaN values in non-Time Data Type"
   ]
  },
  {
   "cell_type": "code",
   "execution_count": null,
   "metadata": {},
   "outputs": [],
   "source": [
    "#No. of Drugs \n",
    "#df_csv['No. of Drugs'] = df_csv['No. of Drugs'].fillna(\"NA\")"
   ]
  },
  {
   "cell_type": "code",
   "execution_count": null,
   "metadata": {},
   "outputs": [],
   "source": [
    "#Bedside Counselling Candidate\n",
    "df_csv['Bedside Counselling Candidate'] = df_csv['Bedside Counselling Candidate'].fillna('No')\n",
    "\n",
    "#IF Time Taken (to Counselling) == 00:00:00 or np.NaN, then Bedside Counselling Candidate = No\n",
    "df_csv.loc[((df_csv['Time Taken (to Counselling)'] == pd.to_datetime('00:00:00').time()) | (df_csv['Time Taken (to Counselling)'].isna())), 'Bedside Counselling Candidate'] = \"No\"\n",
    "\n",
    "#IF Time (to Counselling) > 00:00:00, then Bedside Counselling Candidate = Yes\n",
    "df_csv.loc[(df_csv['Time Taken (to Counselling)'] > pd.to_datetime('00:00:00').time()), 'Bedside Counselling Candidate'] = \"Yes\""
   ]
  },
  {
   "cell_type": "code",
   "execution_count": null,
   "metadata": {},
   "outputs": [],
   "source": [
    "df_csv.isnull().sum()"
   ]
  },
  {
   "cell_type": "code",
   "execution_count": null,
   "metadata": {},
   "outputs": [],
   "source": [
    "dfinal = df_csv"
   ]
  },
  {
   "cell_type": "markdown",
   "metadata": {},
   "source": [
    "## EDA"
   ]
  },
  {
   "cell_type": "markdown",
   "metadata": {},
   "source": [
    "### Step 10: Get Day of Week"
   ]
  },
  {
   "cell_type": "code",
   "execution_count": null,
   "metadata": {},
   "outputs": [],
   "source": [
    "dfinal['Weekday'] = pd.to_datetime(dfinal['Date']).dt.day_name()\n",
    "\n",
    "#Fill NaN with empty string for those without a Date\n",
    "#dfinal['Weekday'] = dfinal['Weekday'].fillna('')\n",
    "\n",
    "dfinal.head()"
   ]
  },
  {
   "cell_type": "markdown",
   "metadata": {},
   "source": [
    "### Step 11: Calculate Time TTO Dispensed \n",
    "\n",
    "PEH does not have a Time TTO Dispensed indicator in their original raw dataset"
   ]
  },
  {
   "cell_type": "code",
   "execution_count": null,
   "metadata": {},
   "outputs": [],
   "source": [
    "#IF time counselled > time checked : time dispensed == time counselled\n",
    "#else time dispensed == time checked\n",
    "\n",
    "dfinal['DateTime TTO Dispensed'] = np.where((dfinal['DateTime (Counselled)'] > dfinal['DateTime TTO Checked']), \n",
    "                                        dfinal['DateTime (Counselled)'], dfinal['DateTime TTO Checked'])\n",
    "\n",
    "dfinal.head()"
   ]
  },
  {
   "cell_type": "markdown",
   "metadata": {},
   "source": [
    "### Step 12: Get Overall Time Taken (TAT)"
   ]
  },
  {
   "cell_type": "code",
   "execution_count": null,
   "metadata": {},
   "outputs": [],
   "source": [
    "dfinal['TAT'] = np.where(\n",
    "                            (dfinal['Time Taken (to Counselling)'].isnull()), \n",
    "                            pd.to_datetime(dfinal['Time Taken (Ready for Collection)'].astype(str)).dt.minute, \n",
    "                            pd.to_datetime(dfinal['Time Taken (to Counselling)'].astype(str)).dt.minute)\n",
    "\n",
    "dfinal.head()"
   ]
  },
  {
   "cell_type": "code",
   "execution_count": null,
   "metadata": {},
   "outputs": [],
   "source": [
    "#pd.set_option('display.max_columns', None)\n",
    "dfinal[dfinal['TAT'].isnull()]"
   ]
  },
  {
   "cell_type": "code",
   "execution_count": null,
   "metadata": {},
   "outputs": [],
   "source": [
    "#Time TTO Dispensed - Time (Counselled) - Time TTO Checked - Time (Meds Sent Down) - Time TTO Received\n",
    "\n",
    "#IF Time (Counselled) != 00:00:00 & IF Time (Meds Sent Down) != 00:00:00, Subtract all from Time TTO Dispensed\n",
    "#IF Time (Counselled) == 00:00:00 & Time (Meds Sent Down) == 00:00:00, Time TTO Dispensed - Time TTO Checked - Time TTO Received\n",
    "#IF Time (Counselled) == 00:00:00 & Time (Meds Sent Down) != 00:00:00, Time TTO Dispensed - Time TTO Checked - Time (Meds Sent Down) - Time TTO Received\n",
    "#IF Time (Counselled) != 00:00:00 & Time (Meds Sent Down) == 00:00:00, Time TTO Dispensed - Time (Counselled) - Time TTO Checked - Time TTO Received\n",
    "\n",
    "#df_test = dfinal\n",
    "#\n",
    "#df_test['Overall Time Taken to Dispensed'] = np.where(  \n",
    "#                                                    (df_test['Time (Counselled)'] != pd.to_datetime('00:00:00').time()) & \n",
    "#                                                    (df_test['Time (Meds Sent Down)'] != pd.to_datetime('00:00:00').time()),\n",
    "#                                                        (pd.to_timedelta(df_test['Time TTO Dispensed'].astype(str)) \n",
    "#                                                        - pd.to_timedelta(df_test['Time (Counselled)'].astype(str)) \n",
    "#                                                        - pd.to_timedelta(df_test['Time TTO Checked'].astype(str)) \n",
    "#                                                        - pd.to_timedelta(df_test['Time (Meds Sent Down)'].astype(str)) \n",
    "#                                                        - pd.to_timedelta(df_test['Time TTO Received'].astype(str))) ,\n",
    "#                                                        \n",
    "#                                                    np.where(\n",
    "#                                                        (df_test['Time (Counselled)'] == pd.to_datetime('00:00:00').time()) & \n",
    "#                                                        (df_test['Time (Meds Sent Down)'] == pd.to_datetime('00:00:00').time()),\n",
    "#                                                            (pd.to_timedelta(df_test['Time TTO Dispensed'].astype(str))                                     \n",
    "#                                                            - pd.to_timedelta(df_test['Time TTO Checked'].astype(str))                                                            \n",
    "#                                                            - pd.to_timedelta(df_test['Time TTO Received'].astype(str))) ,\n",
    "#\n",
    "#                                                    np.where(\n",
    "#                                                        (df_test['Time (Counselled)'] == pd.to_datetime('00:00:00').time()) & \n",
    "#                                                        (df_test['Time (Meds Sent Down)'] != pd.to_datetime('00:00:00').time()),\n",
    "#                                                            (pd.to_timedelta(df_test['Time TTO Dispensed'].astype(str))                                                             \n",
    "#                                                            - pd.to_timedelta(df_test['Time TTO Checked'].astype(str)) \n",
    "#                                                            - pd.to_timedelta(df_test['Time (Meds Sent Down)'].astype(str)) \n",
    "#                                                            - pd.to_timedelta(df_test['Time TTO Received'].astype(str))) ,\n",
    "#\n",
    "#                                                    np.where(\n",
    "#                                                        (df_test['Time (Counselled)'] != pd.to_datetime('00:00:00').time()) & \n",
    "#                                                        (df_test['Time (Meds Sent Down)'] == pd.to_datetime('00:00:00').time()),\n",
    "#                                                            (pd.to_timedelta(df_test['Time TTO Dispensed'].astype(str)) \n",
    "#                                                            - pd.to_timedelta(df_test['Time (Counselled)'].astype(str)) \n",
    "#                                                            - pd.to_timedelta(df_test['Time TTO Checked'].astype(str))                                                             \n",
    "#                                                            - pd.to_timedelta(df_test['Time TTO Received'].astype(str))) , \n",
    "#\n",
    "#                                                            np.NaN))))\n",
    "#\n",
    "#                                                            \n",
    "#df_test\n",
    "\n",
    "#dfinal['Overall Time Taken to Dispensed'] = (pd.to_timedelta(dfinal['Time TTO Dispensed'].astype(str)) \n",
    "#                                            - pd.to_timedelta(dfinal['Time (Counselled)'].astype(str)) \n",
    "#                                            - pd.to_timedelta(dfinal['Time TTO Checked'].astype(str)) \n",
    "#                                            - pd.to_timedelta(dfinal['Time (Meds Sent Down)'].astype(str)) \n",
    "#                                            - pd.to_timedelta(dfinal['Time TTO Received'].astype(str)))\n"
   ]
  },
  {
   "cell_type": "code",
   "execution_count": null,
   "metadata": {},
   "outputs": [],
   "source": [
    "#def td_to_hmsstr(td):\n",
    "#    \"\"\"\n",
    "#    convert a timedelta object td to a string in HH:MM:SS format.\n",
    "#    \"\"\"\n",
    "#    hours, remainder = divmod(td.total_seconds(), 3600)\n",
    "#    minutes, seconds = divmod(remainder, 60)\n",
    "#    return f'{int(hours):02}:{int(minutes):02}:{int(seconds):02}'\n",
    "#\n",
    "#\n",
    "#df_test['Overall Time Taken to Dispensed'] = df_test['Overall Time Taken to Dispensed'].apply(td_to_hmsstr)\n",
    "#df_test"
   ]
  },
  {
   "cell_type": "markdown",
   "metadata": {},
   "source": [
    "### Step 13: Create Meet KPI column with yes/no value\n",
    "\n",
    "GEH: Total Time Taken < 45mins = Yes, else: No."
   ]
  },
  {
   "cell_type": "code",
   "execution_count": null,
   "metadata": {},
   "outputs": [],
   "source": [
    "dfinal['Meet KPI'] = np.where((dfinal['TAT'].isnull()), \"NA\",\n",
    "                            np.where((dfinal['TAT'] <= (pd.to_datetime('00:45:00')).minute),\n",
    "                                    'Yes', 'No'))\n",
    "\n",
    "dfinal"
   ]
  },
  {
   "cell_type": "code",
   "execution_count": null,
   "metadata": {},
   "outputs": [],
   "source": [
    "dfinal[dfinal['Meet KPI']==\"No\"]"
   ]
  },
  {
   "cell_type": "markdown",
   "metadata": {},
   "source": [
    "### Step 14: Create Office Hours column to check if case handled during offcie hours\n",
    "\n",
    "Standard Office Hours: 8:30AM to 5:00PM\n",
    "\n",
    "Taking into assumption that as long as Time TTO Dispensed is before 5:00PM"
   ]
  },
  {
   "cell_type": "code",
   "execution_count": null,
   "metadata": {},
   "outputs": [],
   "source": [
    "dfinal['Office Hours'] = np.where(dfinal['DateTime TTO Received'].isnull() | dfinal['DateTime TTO Dispensed'].isnull() , 'NA',\n",
    "                            np.where(  #(dfinal['Time TTO Received'] >= pd.to_datetime('08:30:00').time()) & \n",
    "                                        (dfinal['DateTime TTO Dispensed'].dt.time <= pd.to_datetime('17:00:00').time()),\n",
    "                                        'Yes', 'No'))\n",
    "\n",
    "dfinal"
   ]
  },
  {
   "cell_type": "code",
   "execution_count": null,
   "metadata": {},
   "outputs": [],
   "source": [
    "dfinal[dfinal['Office Hours'] == 'No']"
   ]
  },
  {
   "cell_type": "markdown",
   "metadata": {},
   "source": [
    "### Step 15: Calculate Average Time Taken from (Received to Checked) & (Checked to Dispensed)"
   ]
  },
  {
   "cell_type": "code",
   "execution_count": null,
   "metadata": {},
   "outputs": [],
   "source": [
    "#Get Duration Difference of Received to Checked\n",
    "dfinal['Time Taken (Received to Checked)'] = (dfinal['DateTime TTO Checked'] - dfinal['DateTime TTO Received'])\n",
    "#Get Duration Difference of Checked to Dispensed\n",
    "dfinal['Time Taken (Checked to Dispensed)'] = (dfinal['DateTime TTO Dispensed'] - dfinal['DateTime TTO Checked'])"
   ]
  },
  {
   "cell_type": "code",
   "execution_count": null,
   "metadata": {},
   "outputs": [],
   "source": [
    "dfinal.head()"
   ]
  },
  {
   "cell_type": "code",
   "execution_count": null,
   "metadata": {},
   "outputs": [],
   "source": [
    "#Create new dataframe to get results of Average Time Taken for each (Received to Checked) & (Checked to Dispensed)\n",
    "dfinal_avg_time = dfinal[['Date', 'Time Taken (Received to Checked)', 'Time Taken (Checked to Dispensed)']]\n",
    "dfinal_avg_time.head()"
   ]
  },
  {
   "cell_type": "markdown",
   "metadata": {},
   "source": [
    "#### Average time taken per day"
   ]
  },
  {
   "cell_type": "code",
   "execution_count": null,
   "metadata": {},
   "outputs": [],
   "source": [
    "#Re-instate time format\n",
    "#dfinal_avg_time['Time Taken (Received to Checked)'] = pd.to_datetime(dfinal_avg_time['Time Taken (Received to Checked)'], infer_datetime_format=True).dt.time\n",
    "#dfinal_avg_time['Time Taken (Checked to Dispensed)'] = pd.to_datetime(dfinal_avg_time['Time Taken (Checked to Dispensed)'], infer_datetime_format=True).dt.time\n",
    "\n",
    "#Get average time taken per day\n",
    "dfinal_avg_time = dfinal_avg_time.groupby(pd.to_datetime(dfinal_avg_time['Date']).dt.date).mean(numeric_only=False)\n",
    "dfinal_avg_time"
   ]
  },
  {
   "cell_type": "code",
   "execution_count": null,
   "metadata": {},
   "outputs": [],
   "source": [
    "#Remove miliseconds\n",
    "dfinal_avg_time['Time Taken (Received to Checked)'] = dfinal_avg_time['Time Taken (Received to Checked)'].dt.floor('s')\n",
    "dfinal_avg_time['Time Taken (Checked to Dispensed)'] = dfinal_avg_time['Time Taken (Checked to Dispensed)'].dt.floor('s')\n",
    "\n",
    "dfinal_avg_time"
   ]
  },
  {
   "cell_type": "code",
   "execution_count": null,
   "metadata": {},
   "outputs": [],
   "source": [
    "#Rename Columns\n",
    "dfinal_avg_time = dfinal_avg_time.rename({'Time Taken (Received to Checked)' : 'Avg Time Taken / Day (Received to Checked)', 'Time Taken (Checked to Dispensed)' : 'Avg Time Taken / Day (Checked to Dispensed)'}, axis=1)"
   ]
  },
  {
   "cell_type": "code",
   "execution_count": null,
   "metadata": {},
   "outputs": [],
   "source": [
    "#Merge the results from grouby for Avg Time Taken\n",
    "dfinal = dfinal.merge(dfinal_avg_time, on='Date', how='left')\n",
    "dfinal"
   ]
  },
  {
   "cell_type": "code",
   "execution_count": null,
   "metadata": {},
   "outputs": [],
   "source": [
    "#Replace 00:00:00 in time columns with np.NaN\n",
    "dfinal['Time Taken (Received to Checked)'] = dfinal['Time Taken (Received to Checked)'].replace(pd.Timedelta(0), np.NaN)\n",
    "dfinal['Time Taken (Checked to Dispensed)'] = dfinal['Time Taken (Checked to Dispensed)'].replace(pd.Timedelta(0), np.NaN)\n",
    "dfinal['Avg Time Taken / Day (Received to Checked)'] = dfinal['Avg Time Taken / Day (Received to Checked)'].replace(pd.Timedelta(0), np.NaN)\n",
    "dfinal['Avg Time Taken / Day (Checked to Dispensed)'] = dfinal['Avg Time Taken / Day (Checked to Dispensed)'].replace(pd.Timedelta(0), np.NaN)"
   ]
  },
  {
   "cell_type": "code",
   "execution_count": null,
   "metadata": {},
   "outputs": [],
   "source": [
    "dfinal"
   ]
  },
  {
   "cell_type": "markdown",
   "metadata": {},
   "source": [
    "#### Average time taken per month"
   ]
  },
  {
   "cell_type": "code",
   "execution_count": null,
   "metadata": {},
   "outputs": [],
   "source": [
    "dfinal['Month']= pd.to_datetime(dfinal['Date']).dt.month_name()"
   ]
  },
  {
   "cell_type": "code",
   "execution_count": null,
   "metadata": {},
   "outputs": [],
   "source": [
    "dfinal_avg_time = dfinal[['Date', 'Time Taken (Received to Checked)', 'Time Taken (Checked to Dispensed)']]\n",
    "\n",
    "dfinal_avg_time['Month']= pd.to_datetime(dfinal_avg_time['Date']).dt.month_name()\n",
    "\n",
    "#Get average time taken per month\n",
    "dfinal_avg_time= dfinal_avg_time.groupby('Month').agg({'Time Taken (Received to Checked)': np.sum, 'Time Taken (Checked to Dispensed)': np.sum})\n",
    "\n",
    "x = dfinal_avg_time['Time Taken (Received to Checked)'] / np.timedelta64(1, 'm')\n",
    "y = dfinal.groupby('Month')['Time Taken (Received to Checked)'].count()\n",
    "\n",
    "dfinal_avg_time['Avg Time Taken / Month (Received to Checked)'] = (x/y)\n",
    "\n",
    "dfinal_avg_time['Avg Time Taken / Month (Received to Checked)'] = pd.to_datetime(dfinal_avg_time['Avg Time Taken / Month (Received to Checked)'], unit='m').apply(lambda x: x.strftime(\"%H:%M:%S\"))"
   ]
  },
  {
   "cell_type": "code",
   "execution_count": null,
   "metadata": {},
   "outputs": [],
   "source": [
    "a = dfinal_avg_time['Time Taken (Checked to Dispensed)'] / np.timedelta64(1, 'm')\n",
    "b = dfinal.groupby('Month')['Time Taken (Checked to Dispensed)'].count()\n",
    "\n",
    "dfinal_avg_time['Avg Time Taken / Month (Checked to Dispensed)'] = (a/b)\n",
    "\n",
    "dfinal_avg_time['Avg Time Taken / Month (Checked to Dispensed)'] = pd.to_datetime(dfinal_avg_time['Avg Time Taken / Month (Checked to Dispensed)'], unit='m').apply(lambda x: x.strftime(\"%H:%M:%S\"))"
   ]
  },
  {
   "cell_type": "code",
   "execution_count": null,
   "metadata": {},
   "outputs": [],
   "source": [
    "dfinal_avg_time = dfinal_avg_time.drop(dfinal_avg_time.columns[[0, 1]], axis=1)\n",
    "\n",
    "dfinal = dfinal.merge(dfinal_avg_time, on='Month', how='left')\n",
    "\n",
    "dfinal['Avg Time Taken / Month (Received to Checked)'] = pd.to_timedelta(dfinal['Avg Time Taken / Month (Received to Checked)'])\n",
    "dfinal['Avg Time Taken / Month (Checked to Dispensed)'] = pd.to_timedelta(dfinal['Avg Time Taken / Month (Checked to Dispensed)'])\n",
    "dfinal"
   ]
  },
  {
   "cell_type": "markdown",
   "metadata": {},
   "source": [
    "### Step 16: Map Room/Bed No. to Ward No.\n",
    "\n",
    "Match Room No. to its corresponding Ward."
   ]
  },
  {
   "cell_type": "code",
   "execution_count": null,
   "metadata": {},
   "outputs": [],
   "source": [
    "#df_ward = pd.read_excel(\"../../Data/Pharmacy Dept/PEH TTO Data/PEH Wards.xlsx\", sheet_name=0)\n",
    "\n",
    "#df_ward"
   ]
  },
  {
   "cell_type": "code",
   "execution_count": null,
   "metadata": {},
   "outputs": [],
   "source": [
    "##df_ward.info()"
   ]
  },
  {
   "cell_type": "code",
   "execution_count": null,
   "metadata": {},
   "outputs": [],
   "source": [
    "#dfinal['Room/Bed'] = pd.to_numeric(dfinal['Room/Bed'], errors='coerce').convert_dtypes()\n",
    "#dfinal['Room/Bed'] = dfinal['Room/Bed'].astype(object)"
   ]
  },
  {
   "cell_type": "code",
   "execution_count": null,
   "metadata": {},
   "outputs": [],
   "source": [
    "#dfinal = pd.merge(dfinal, df_ward, how='left', left_on=['Room/Bed'], right_on=['Room No.'])\n",
    "\n",
    "#dfinal.head()"
   ]
  },
  {
   "cell_type": "code",
   "execution_count": null,
   "metadata": {},
   "outputs": [],
   "source": [
    "#dfinal[dfinal['Ward_y'].isnull()]"
   ]
  },
  {
   "cell_type": "markdown",
   "metadata": {},
   "source": [
    "## Step 17: Export CLEANED to csv"
   ]
  },
  {
   "cell_type": "code",
   "execution_count": null,
   "metadata": {},
   "outputs": [],
   "source": [
    "#export to csv\n",
    "dfinal.to_csv('../../Data/Pharmacy Dept/Data Cleaning/PEH_Data_Cleaned.csv', header=True, index=False)"
   ]
  },
  {
   "cell_type": "code",
   "execution_count": null,
   "metadata": {},
   "outputs": [],
   "source": []
  }
 ],
 "metadata": {
  "interpreter": {
   "hash": "082e9a3bcad0a290d0001e938aa60b99250c6c2ef33a923c00b70f9826caf4b7"
  },
  "kernelspec": {
   "display_name": "Python 3",
   "language": "python",
   "name": "python3"
  },
  "language_info": {
   "codemirror_mode": {
    "name": "ipython",
    "version": 3
   },
   "file_extension": ".py",
   "mimetype": "text/x-python",
   "name": "python",
   "nbconvert_exporter": "python",
   "pygments_lexer": "ipython3",
   "version": "3.8.3"
  }
 },
 "nbformat": 4,
 "nbformat_minor": 2
}
