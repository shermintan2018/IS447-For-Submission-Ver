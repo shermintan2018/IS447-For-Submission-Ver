{
 "cells": [
  {
   "cell_type": "markdown",
   "metadata": {},
   "source": [
    "# GEH Pharmacy Department"
   ]
  },
  {
   "cell_type": "markdown",
   "metadata": {},
   "source": [
    "## Step 1: Import necessary packages"
   ]
  },
  {
   "cell_type": "code",
   "execution_count": null,
   "metadata": {},
   "outputs": [],
   "source": [
    "import pandas as pd\n",
    "import numpy as np\n",
    "import glob\n",
    "import os\n",
    "from datetime import *"
   ]
  },
  {
   "cell_type": "markdown",
   "metadata": {},
   "source": [
    "## Data Cleaning (April & May Data)"
   ]
  },
  {
   "cell_type": "markdown",
   "metadata": {},
   "source": [
    "### Step 2: Read April & May data for merging"
   ]
  },
  {
   "cell_type": "code",
   "execution_count": null,
   "metadata": {},
   "outputs": [],
   "source": [
    "files_xls_1 = ['../../Data/Pharmacy Dept/GEH TTO Data/GEH TTO TAT (April 2021).xlsx', '../../Data/Pharmacy Dept/GEH TTO Data/GEH TTO TAT 2021 May.xlsx']"
   ]
  },
  {
   "cell_type": "code",
   "execution_count": null,
   "metadata": {},
   "outputs": [],
   "source": [
    "df = pd.DataFrame()"
   ]
  },
  {
   "cell_type": "code",
   "execution_count": null,
   "metadata": {},
   "outputs": [],
   "source": [
    "for f in files_xls_1:\n",
    "    data = pd.read_excel(f, 'Template')\n",
    "    df = df.append(data)"
   ]
  },
  {
   "cell_type": "code",
   "execution_count": null,
   "metadata": {},
   "outputs": [],
   "source": [
    "df"
   ]
  },
  {
   "cell_type": "markdown",
   "metadata": {},
   "source": [
    "#### Step 3: Make first row as the column name"
   ]
  },
  {
   "cell_type": "code",
   "execution_count": null,
   "metadata": {},
   "outputs": [],
   "source": [
    "df.columns = df.iloc[0]"
   ]
  },
  {
   "cell_type": "code",
   "execution_count": null,
   "metadata": {},
   "outputs": [],
   "source": [
    "df = df.drop(0)\n",
    "df"
   ]
  },
  {
   "cell_type": "code",
   "execution_count": null,
   "metadata": {},
   "outputs": [],
   "source": [
    "df = df.dropna(axis=1, how='all')\n",
    "df"
   ]
  },
  {
   "cell_type": "markdown",
   "metadata": {},
   "source": [
    "#### Step 4: Drop row if case number is empty"
   ]
  },
  {
   "cell_type": "code",
   "execution_count": null,
   "metadata": {},
   "outputs": [],
   "source": [
    "df = df[pd.notnull(df['Case No'])]"
   ]
  },
  {
   "cell_type": "code",
   "execution_count": null,
   "metadata": {},
   "outputs": [],
   "source": [
    "df"
   ]
  },
  {
   "cell_type": "code",
   "execution_count": null,
   "metadata": {},
   "outputs": [],
   "source": [
    "df.info()"
   ]
  },
  {
   "cell_type": "markdown",
   "metadata": {},
   "source": [
    "#### Step 5: Drop empty column"
   ]
  },
  {
   "cell_type": "code",
   "execution_count": null,
   "metadata": {},
   "outputs": [],
   "source": [
    "df2= df.copy()"
   ]
  },
  {
   "cell_type": "code",
   "execution_count": null,
   "metadata": {},
   "outputs": [],
   "source": [
    "df2 = df2.drop(df.iloc[:, 17:], axis=1)"
   ]
  },
  {
   "cell_type": "code",
   "execution_count": null,
   "metadata": {},
   "outputs": [],
   "source": [
    "#reset index \n",
    "df2 = df2.reset_index(drop=True)"
   ]
  },
  {
   "cell_type": "markdown",
   "metadata": {},
   "source": [
    "#### Step 6: Rename common columns"
   ]
  },
  {
   "cell_type": "code",
   "execution_count": null,
   "metadata": {},
   "outputs": [],
   "source": [
    "df2.rename({'Date ': 'Date', \n",
    "            'Case No': 'Case Number', \n",
    "            'Room No': 'Room/Bed',\n",
    "            'SCM / Handwritten TTO ': 'TTO Type', \n",
    "            'No. of items':'No. of Drugs', \n",
    "            'Time in / Verified': 'DateTime TTO Received', # the start time\n",
    "            'Time checked':'DateTime TTO Checked', \n",
    "            'Time reached ': 'DateTime TTO Dispensed', # the end time \n",
    "            ' Time Counselled':'DateTime (Counselled)', # end time if patients need to be counselled\n",
    "           'Limo Service ':'Limo Service'},  \n",
    "           axis=1, inplace=True)"
   ]
  },
  {
   "cell_type": "code",
   "execution_count": null,
   "metadata": {},
   "outputs": [],
   "source": [
    "df2.info()"
   ]
  },
  {
   "cell_type": "markdown",
   "metadata": {},
   "source": [
    "#### Step 7: Handle missing value"
   ]
  },
  {
   "cell_type": "code",
   "execution_count": null,
   "metadata": {},
   "outputs": [],
   "source": [
    "list(df2.columns)"
   ]
  },
  {
   "cell_type": "code",
   "execution_count": null,
   "metadata": {},
   "outputs": [],
   "source": [
    "df2.isnull().sum()"
   ]
  },
  {
   "cell_type": "markdown",
   "metadata": {},
   "source": [
    "##### Missing date"
   ]
  },
  {
   "cell_type": "code",
   "execution_count": null,
   "metadata": {},
   "outputs": [],
   "source": [
    "# change to datetime formate\n",
    "df2['Date'] = pd.to_datetime(df2['Date'])"
   ]
  },
  {
   "cell_type": "code",
   "execution_count": null,
   "metadata": {},
   "outputs": [],
   "source": [
    "missing_date = df2[df2['Date'].isnull()]\n",
    "missing_date"
   ]
  },
  {
   "cell_type": "code",
   "execution_count": null,
   "metadata": {},
   "outputs": [],
   "source": [
    "# fill up missing date based on previous known value \n",
    "df2['Date'] = df2['Date'].fillna(method='ffill')\n",
    "df2.tail()"
   ]
  },
  {
   "cell_type": "markdown",
   "metadata": {},
   "source": [
    "##### Missing Time TTO Received"
   ]
  },
  {
   "cell_type": "code",
   "execution_count": null,
   "metadata": {},
   "outputs": [],
   "source": [
    "# drop the one missing row in april dataset bc no time in cant calculate time taken\n",
    "# drop row in may too for same reason\n",
    "df2 = df2.dropna(subset=['DateTime TTO Received'])"
   ]
  },
  {
   "cell_type": "code",
   "execution_count": null,
   "metadata": {},
   "outputs": [],
   "source": [
    "df2.isnull().sum()"
   ]
  },
  {
   "cell_type": "markdown",
   "metadata": {},
   "source": [
    "## EDA (April & May Data)"
   ]
  },
  {
   "cell_type": "code",
   "execution_count": null,
   "metadata": {
    "scrolled": true
   },
   "outputs": [],
   "source": [
    "df2"
   ]
  },
  {
   "cell_type": "markdown",
   "metadata": {},
   "source": [
    "### Step 8: Get Day of Week"
   ]
  },
  {
   "cell_type": "code",
   "execution_count": null,
   "metadata": {},
   "outputs": [],
   "source": [
    "df2['Weekday'] = df2['Date'].dt.day_name()"
   ]
  },
  {
   "cell_type": "code",
   "execution_count": null,
   "metadata": {},
   "outputs": [],
   "source": [
    "# handle Unknown string format: 9.:09 in Time TTO reached\n",
    "df2['DateTime TTO Dispensed'] = df2['DateTime TTO Dispensed'].replace('9.:09', 'NA')"
   ]
  },
  {
   "cell_type": "code",
   "execution_count": null,
   "metadata": {},
   "outputs": [],
   "source": [
    "#tto_received = pd.to_datetime(df2['Time TTO Received'].astype(str)) \n",
    "#tto_reached = pd.to_datetime(df2[df2['Time TTO Reached'] != 'NA']['Time TTO Reached'].astype(str))\n",
    "#tto_counselled = pd.to_datetime(df2[df2['Time TTO Counselled'] != 'NA']['Time TTO Counselled'].astype(str))\n",
    "\n",
    "#df2['Overall Time Taken (mins)'] = tto_reached.sub(tto_received).dt.total_seconds().div(60)"
   ]
  },
  {
   "cell_type": "code",
   "execution_count": null,
   "metadata": {},
   "outputs": [],
   "source": [
    "#df2.info()"
   ]
  },
  {
   "cell_type": "code",
   "execution_count": null,
   "metadata": {},
   "outputs": [],
   "source": [
    "#df2['time_diff'] = pd.Timestamp(df2['Time TTO Received']) - pd.Timestamp(df['end_time'])   \n",
    "#def f(row):\n",
    "#    if row['Time TTO Counselled'] != \" \":\n",
    "#        val = tto_counselled.sub(tto_received).dt.total_seconds().div(60)\n",
    "    #elif row['Time TTO Counselled'] <  row['Time TTO Reached']:\n",
    "    #    val = tto_reached.sub(tto_received).dt.total_seconds().div(60)\n",
    "#    else:\n",
    "#        val = tto_reached.sub(tto_received).dt.total_seconds().div(60)\n",
    "#    return val"
   ]
  },
  {
   "cell_type": "code",
   "execution_count": null,
   "metadata": {},
   "outputs": [],
   "source": [
    "#df2['Overall Time Taken (mins)_2'] = df2.apply(f, axis=1)\n",
    "#df2"
   ]
  },
  {
   "cell_type": "markdown",
   "metadata": {},
   "source": [
    "## Step 9: Export to CSV for Final Merge (April & May)"
   ]
  },
  {
   "cell_type": "code",
   "execution_count": null,
   "metadata": {},
   "outputs": [],
   "source": [
    "df2.to_csv(\"../../Data/Pharmacy Dept/GEH TTO Data/GEH TTO TAT (April-May 2021).csv\", index = False, header=True)"
   ]
  },
  {
   "cell_type": "markdown",
   "metadata": {},
   "source": [
    "## Data Cleaning (Remaining Months Data)"
   ]
  },
  {
   "cell_type": "markdown",
   "metadata": {},
   "source": [
    "### Step 10: Read remaining months for merging"
   ]
  },
  {
   "cell_type": "code",
   "execution_count": null,
   "metadata": {},
   "outputs": [],
   "source": [
    "files_xls_2 = ['../../Data/Pharmacy Dept/GEH TTO Data/GEH TTO TAT 2021 June.xlsx',\n",
    " '../../Data/Pharmacy Dept/GEH TTO Data/GEH TTO TAT 2021 July.xlsx',\n",
    " '../../Data/Pharmacy Dept/GEH TTO Data/GEH TTO TAT 2021 Aug.xlsx',\n",
    "'../../Data/Pharmacy Dept/GEH TTO Data/GEH TTO TAT 2021 Sep.xlsx',\n",
    " '../../Data/Pharmacy Dept/GEH TTO Data/GEH TTO TAT 2021 Nov.xlsx', \n",
    "'../../Data/Pharmacy Dept/GEH TTO Data/GEH TTO TAT 2021 Oct.xlsx', \n",
    " '../../Data/Pharmacy Dept/GEH TTO Data/GEH TTO TAT 2021 Dec.xlsx']"
   ]
  },
  {
   "cell_type": "code",
   "execution_count": null,
   "metadata": {},
   "outputs": [],
   "source": [
    "df3 = pd.DataFrame()\n",
    "for f in files_xls_2:\n",
    "    data = pd.read_excel(f)\n",
    "    df3 = df3.append(data)\n",
    "df3"
   ]
  },
  {
   "cell_type": "code",
   "execution_count": null,
   "metadata": {},
   "outputs": [],
   "source": [
    "df3.info()"
   ]
  },
  {
   "cell_type": "code",
   "execution_count": null,
   "metadata": {},
   "outputs": [],
   "source": [
    "#reset index \n",
    "df3 = df3.reset_index(drop=True)"
   ]
  },
  {
   "cell_type": "markdown",
   "metadata": {},
   "source": [
    "#### Drop irrelevant columns"
   ]
  },
  {
   "cell_type": "code",
   "execution_count": null,
   "metadata": {},
   "outputs": [],
   "source": [
    "# drop columns that should be ignored\n",
    "df3 = df3.drop(['TTO_TAT_Calc', 'Total number of TTO', 'Status_Time_Met', 'ID', 'Title', 'TTOaddon', 'Item Type', 'Path', 'Unnamed: 23', 'Unnamed: 24'], axis = 1)\n",
    "# drop other redundant columns\n",
    "#df3 = df3.drop(['Pharmacist_Checked', 'Pharmacist_Dispensed', 'Dispatcher' ], axis = 1)"
   ]
  },
  {
   "cell_type": "markdown",
   "metadata": {},
   "source": [
    "### Step 11: Rename common columns"
   ]
  },
  {
   "cell_type": "code",
   "execution_count": null,
   "metadata": {},
   "outputs": [],
   "source": [
    "df3.info()"
   ]
  },
  {
   "cell_type": "code",
   "execution_count": null,
   "metadata": {},
   "outputs": [],
   "source": [
    "df3.rename({'No. of Items':'No. of Drugs', \n",
    "            'Time In': 'DateTime TTO Received', # the start time\n",
    "            'Time Checked':'DateTime TTO Checked', \n",
    "            'Time Reached': 'DateTime TTO Dispensed'}, # the end time  'Time Dispensed' : 'DateTime TTO Dispensed'},\n",
    "           axis=1, inplace=True)"
   ]
  },
  {
   "cell_type": "markdown",
   "metadata": {},
   "source": [
    "### Step 12: Remove date in time metrics"
   ]
  },
  {
   "cell_type": "code",
   "execution_count": null,
   "metadata": {},
   "outputs": [],
   "source": [
    "columns = ['DateTime TTO Received', 'DateTime TTO Checked', 'DateTime TTO Dispensed']\n",
    "           #, 'DateTime TTO Counselled']\n",
    "\n",
    "for column in columns:\n",
    "    # remove date in the time metric\n",
    "    #df3[column]=df3[column].dt.time \n",
    "    df3[column] = df3[column].astype(str).str.split(' ').str[-1]"
   ]
  },
  {
   "cell_type": "code",
   "execution_count": null,
   "metadata": {},
   "outputs": [],
   "source": [
    "df3"
   ]
  },
  {
   "cell_type": "code",
   "execution_count": null,
   "metadata": {},
   "outputs": [],
   "source": [
    "df3.info()"
   ]
  },
  {
   "cell_type": "markdown",
   "metadata": {},
   "source": [
    "### Step 13: Handle missing value"
   ]
  },
  {
   "cell_type": "code",
   "execution_count": null,
   "metadata": {},
   "outputs": [],
   "source": [
    "df3.isnull().sum()"
   ]
  },
  {
   "cell_type": "markdown",
   "metadata": {},
   "source": [
    "#### Missing Date"
   ]
  },
  {
   "cell_type": "code",
   "execution_count": null,
   "metadata": {},
   "outputs": [],
   "source": [
    "# change to datetime format\n",
    "df3['Date'] = pd.to_datetime(df3['Date'])"
   ]
  },
  {
   "cell_type": "code",
   "execution_count": null,
   "metadata": {},
   "outputs": [],
   "source": [
    "missing_date = df3[df3['Date'].isnull()]\n",
    "missing_date"
   ]
  },
  {
   "cell_type": "code",
   "execution_count": null,
   "metadata": {},
   "outputs": [],
   "source": [
    "#drop rows\n",
    "df3 = df3.dropna(subset=['Date'])"
   ]
  },
  {
   "cell_type": "markdown",
   "metadata": {},
   "source": [
    "#### Missing Pharmacist Dispensed"
   ]
  },
  {
   "cell_type": "code",
   "execution_count": null,
   "metadata": {},
   "outputs": [],
   "source": [
    "# missing pharmacist dispensed\n",
    "missing_date = df3[df3['Pharmacist_Dispensed'].isnull()]\n",
    "missing_date.head()"
   ]
  },
  {
   "cell_type": "markdown",
   "metadata": {},
   "source": [
    "#### Missing No. of Drugs"
   ]
  },
  {
   "cell_type": "code",
   "execution_count": null,
   "metadata": {},
   "outputs": [],
   "source": [
    "df3['No. of Drugs'].replace(np.nan, 'NA', inplace = True)"
   ]
  },
  {
   "cell_type": "code",
   "execution_count": null,
   "metadata": {},
   "outputs": [],
   "source": [
    "missing_date = df3[df3['Time'].notnull()]\n",
    "missing_date"
   ]
  },
  {
   "cell_type": "code",
   "execution_count": null,
   "metadata": {},
   "outputs": [],
   "source": [
    "df3.isnull().sum()"
   ]
  },
  {
   "cell_type": "markdown",
   "metadata": {},
   "source": [
    "## EDA (Remaining Months Data)"
   ]
  },
  {
   "cell_type": "markdown",
   "metadata": {},
   "source": [
    "### Step 14: Get Day of Week"
   ]
  },
  {
   "cell_type": "code",
   "execution_count": null,
   "metadata": {},
   "outputs": [],
   "source": [
    "# add weekday column\n",
    "df3['Weekday'] = df3['Date'].dt.day_name()"
   ]
  },
  {
   "cell_type": "markdown",
   "metadata": {},
   "source": [
    "## Step 15: Export to CSV for Final Merge"
   ]
  },
  {
   "cell_type": "code",
   "execution_count": null,
   "metadata": {},
   "outputs": [],
   "source": [
    "df3.to_csv(\"../../Data/Pharmacy Dept/GEH TTO Data/GEH TTO TAT (June-Dec 2021).csv\", index = None, header=True)"
   ]
  },
  {
   "cell_type": "markdown",
   "metadata": {},
   "source": [
    "## Data Cleaning (Final)"
   ]
  },
  {
   "cell_type": "markdown",
   "metadata": {},
   "source": [
    "### Step 16: Final Merge of the above CSVs"
   ]
  },
  {
   "cell_type": "code",
   "execution_count": null,
   "metadata": {},
   "outputs": [],
   "source": [
    "merged_df = pd.concat([df2, df3])"
   ]
  },
  {
   "cell_type": "code",
   "execution_count": null,
   "metadata": {
    "scrolled": true
   },
   "outputs": [],
   "source": [
    "merged_df"
   ]
  },
  {
   "cell_type": "markdown",
   "metadata": {},
   "source": [
    "### Step 17: Clean datetime columns"
   ]
  },
  {
   "cell_type": "code",
   "execution_count": null,
   "metadata": {},
   "outputs": [],
   "source": [
    "columns = ['DateTime TTO Received',\n",
    "           'DateTime TTO Checked', \n",
    "           'DateTime TTO Dispensed']\n",
    "for column in columns:\n",
    "    merged_df.loc[:,column] = pd.to_datetime((merged_df['Date'].astype(str) + ' ' + merged_df[column].astype(str)), infer_datetime_format=True, errors='coerce')"
   ]
  },
  {
   "cell_type": "code",
   "execution_count": null,
   "metadata": {},
   "outputs": [],
   "source": [
    "merged_df['Date'] = pd.to_datetime(merged_df['Date']).dt.normalize()"
   ]
  },
  {
   "cell_type": "code",
   "execution_count": null,
   "metadata": {},
   "outputs": [],
   "source": [
    "merged_df.head()"
   ]
  },
  {
   "cell_type": "code",
   "execution_count": null,
   "metadata": {},
   "outputs": [],
   "source": [
    "list(merged_df.columns)"
   ]
  },
  {
   "cell_type": "markdown",
   "metadata": {},
   "source": [
    "### Step 18: Drop ununsed columns & rename columns"
   ]
  },
  {
   "cell_type": "code",
   "execution_count": null,
   "metadata": {},
   "outputs": [],
   "source": [
    "merged_df = merged_df.drop(['Pharmacist_Checked','Pharmacist_Dispensed','Dispatcher',\n",
    "                            'status_CheckedTTO','status_TTOReached','status_Dispensed','status_TTOIn','Time', 'Time Dispensed'],\n",
    "                           axis=1)"
   ]
  },
  {
   "cell_type": "code",
   "execution_count": null,
   "metadata": {},
   "outputs": [],
   "source": [
    "merged_df.rename({'Timings (Checked)' : 'Time Taken (Received to Checked)',\n",
    "              'Timings (Reached)': 'Time Taken (Received to Dispensed)'},  \n",
    "           axis=1, inplace=True)\n",
    "    "
   ]
  },
  {
   "cell_type": "code",
   "execution_count": null,
   "metadata": {},
   "outputs": [],
   "source": [
    "merged_df.info()"
   ]
  },
  {
   "cell_type": "code",
   "execution_count": null,
   "metadata": {},
   "outputs": [],
   "source": [
    "merged_df[merged_df.index.duplicated()]"
   ]
  },
  {
   "cell_type": "code",
   "execution_count": null,
   "metadata": {},
   "outputs": [],
   "source": [
    "#reset index \n",
    "merged_df = merged_df.reset_index(drop=True)"
   ]
  },
  {
   "cell_type": "code",
   "execution_count": null,
   "metadata": {},
   "outputs": [],
   "source": [
    "merged_df"
   ]
  },
  {
   "cell_type": "markdown",
   "metadata": {},
   "source": [
    "## EDA (Final)"
   ]
  },
  {
   "cell_type": "markdown",
   "metadata": {},
   "source": [
    "### Step 19: Get Overall Time Taken (mins)"
   ]
  },
  {
   "cell_type": "code",
   "execution_count": null,
   "metadata": {},
   "outputs": [],
   "source": [
    "#merged_df[\"DateTime TTO Dispensed\"] = pd.to_datetime(merged_df[merged_df['DateTime TTO Dispensed'] != 'NA']['DateTime TTO Dispensed'].astype(str))\n",
    "#merged_df[\"DateTime TTO Counselled\"]= pd.to_datetime(merged_df[merged_df['DateTime TTO Counselled'] != 'NA']['DateTime TTO Counselled'].astype(str))"
   ]
  },
  {
   "cell_type": "code",
   "execution_count": null,
   "metadata": {},
   "outputs": [],
   "source": [
    "#merged_df[\"TTO Last Timestamp\"] = merged_df[['DateTime TTO Reached', 'DateTime TTO Counselled']].max(axis=1)\n",
    "#merged_df[\"Last Timestamp\"]  = merged_df['Last Timestamp'].dt.time"
   ]
  },
  {
   "cell_type": "code",
   "execution_count": null,
   "metadata": {},
   "outputs": [],
   "source": [
    "#columns = ['Time TTO Reached', 'Time TTO Counselled', 'Last Timestamp']\n",
    "\n",
    "#for column in column:\n",
    "#    merged_df[column]  = merged_df[column].dt.time"
   ]
  },
  {
   "cell_type": "code",
   "execution_count": null,
   "metadata": {},
   "outputs": [],
   "source": [
    "#merged_df[\"Time TTO Received\"]  = pd.to_datetime(merged_df[\"Time TTO Received\"] , infer_datetime_format=True, errors='coerce')\n",
    "#merged_df[\"Time TTO Reached\"]  = pd.to_datetime(merged_df[\"Time TTO Reached\"] , infer_datetime_format=True, errors='coerce')\n",
    "#merged_df[\"Time TTO Counselled\"]  = pd.to_datetime(merged_df[\"Time TTO Counselled\"] , infer_datetime_format=True, errors='coerce')"
   ]
  },
  {
   "cell_type": "code",
   "execution_count": null,
   "metadata": {},
   "outputs": [],
   "source": [
    "#merged_df[\"DateTime TTO Dispensed\"]  = merged_df['DateTime TTO Dispensed'].dt.time\n",
    "#merged_df[\"DateTime TTO Counselled\"]  = merged_df['DateTime TTO Counselled'].dt.time"
   ]
  },
  {
   "cell_type": "code",
   "execution_count": null,
   "metadata": {},
   "outputs": [],
   "source": [
    "#merged_df[\"TTO Last Timestamp\"]  = merged_df['TTO Last Timestamp'].dt.time"
   ]
  },
  {
   "cell_type": "code",
   "execution_count": null,
   "metadata": {},
   "outputs": [],
   "source": [
    "#merged_df.info()"
   ]
  },
  {
   "cell_type": "code",
   "execution_count": null,
   "metadata": {},
   "outputs": [],
   "source": [
    "#merged_df"
   ]
  },
  {
   "cell_type": "code",
   "execution_count": null,
   "metadata": {},
   "outputs": [],
   "source": [
    "tto_received = pd.to_datetime(merged_df['DateTime TTO Received'].astype(str)) \n",
    "tto_dispensed = pd.to_datetime(merged_df[merged_df['DateTime TTO Dispensed'] != 'NA']['DateTime TTO Dispensed'].astype(str))\n",
    "#tto_counselled = pd.to_datetime(df2[df2['Time TTO Counselled'] != 'NA']['Time TTO Counselled'].astype(str))\n",
    "\n",
    "merged_df['TAT'] = tto_dispensed.sub(tto_received).dt.total_seconds().div(60)"
   ]
  },
  {
   "cell_type": "code",
   "execution_count": null,
   "metadata": {},
   "outputs": [],
   "source": [
    "merged_df"
   ]
  },
  {
   "cell_type": "markdown",
   "metadata": {},
   "source": [
    "### Step 19: Create Meet KPI column with yes/no value"
   ]
  },
  {
   "cell_type": "code",
   "execution_count": null,
   "metadata": {},
   "outputs": [],
   "source": [
    "def f(row):\n",
    "    if row['TAT'] > 45:\n",
    "        val = 'No'\n",
    "    elif row['TAT'] > 0 and row['TAT'] <= 45:\n",
    "        val = 'Yes'\n",
    "    else:\n",
    "        val = 'NA'\n",
    "    return val"
   ]
  },
  {
   "cell_type": "code",
   "execution_count": null,
   "metadata": {},
   "outputs": [],
   "source": [
    "merged_df['Meet KPI'] = merged_df.apply(f, axis=1)\n",
    "merged_df"
   ]
  },
  {
   "cell_type": "code",
   "execution_count": null,
   "metadata": {},
   "outputs": [],
   "source": [
    "merged_df.info()"
   ]
  },
  {
   "cell_type": "markdown",
   "metadata": {},
   "source": [
    "### Step 20: Create Office Hours column to check if case handled during offcie hours"
   ]
  },
  {
   "cell_type": "code",
   "execution_count": null,
   "metadata": {},
   "outputs": [],
   "source": [
    "x = datetime.strptime('08:30:00', '%H:%M:%S').time()\n",
    "x"
   ]
  },
  {
   "cell_type": "code",
   "execution_count": null,
   "metadata": {},
   "outputs": [],
   "source": [
    "#merged_df[\"DateTime TTO Received\"]  = pd.to_datetime(merged_df[\"DateTime TTO Received\"].astype(str))\n",
    "#merged_df[\"DateTime TTO Dispensed\"]  = pd.to_datetime(merged_df[\"DateTime TTO Dispensed\"].astype(str))\n",
    "#merged_df[\"TTO Last Timestamp\"]  = pd.to_datetime(merged_df[\"TTO Last Timestamp\"] , infer_datetime_format=True, errors='coerce')"
   ]
  },
  {
   "cell_type": "code",
   "execution_count": null,
   "metadata": {},
   "outputs": [],
   "source": [
    "#merged_df"
   ]
  },
  {
   "cell_type": "code",
   "execution_count": null,
   "metadata": {},
   "outputs": [],
   "source": [
    "#merged_df[\"DateTime TTO Received\"]   = merged_df[\"DateTime TTO Received\"].dt.time\n",
    "#merged_df[\"DateTime TTO Dispensed\"]   = merged_df[\"DateTime TTO Dispensed\"].dt.time"
   ]
  },
  {
   "cell_type": "code",
   "execution_count": null,
   "metadata": {},
   "outputs": [],
   "source": [
    "merged_df['Office Hours'] = np.where(merged_df['DateTime TTO Received'].isnull() | merged_df['DateTime TTO Dispensed'].isnull() , 'NA',\n",
    "                            np.where(  #(dfinal['Time TTO Received'] >= pd.to_datetime('08:30:00').time()) & \n",
    "                                        (merged_df['DateTime TTO Dispensed'].dt.time <= pd.to_datetime('20:00:00').time()),\n",
    "                                        'Yes', 'No'))\n",
    "\n",
    "merged_df"
   ]
  },
  {
   "cell_type": "markdown",
   "metadata": {},
   "source": [
    "### Step 21: Create Average Time Taken from (Received to Checked) & (Checked to Dispensed) columns"
   ]
  },
  {
   "cell_type": "code",
   "execution_count": null,
   "metadata": {},
   "outputs": [],
   "source": [
    "merged_df['Time Taken (Checked to Dispensed)'] = (merged_df['DateTime TTO Dispensed'] - merged_df['DateTime TTO Checked'])"
   ]
  },
  {
   "cell_type": "markdown",
   "metadata": {},
   "source": [
    "#### Average time taken per day"
   ]
  },
  {
   "cell_type": "code",
   "execution_count": null,
   "metadata": {},
   "outputs": [],
   "source": [
    "#Get Duration Difference of Received to Checked\n",
    "merged_df['Time Taken (Received to Checked)'] = (merged_df['DateTime TTO Checked'] - merged_df['DateTime TTO Received'])\n",
    "#Get Duration Difference of Checked to Dispensed\n",
    "merged_df['Time Taken (Checked to Dispensed)'] = (merged_df['DateTime TTO Dispensed'] - merged_df['DateTime TTO Checked'])"
   ]
  },
  {
   "cell_type": "code",
   "execution_count": null,
   "metadata": {},
   "outputs": [],
   "source": [
    "#Create new dataframe to get results of Average Time Taken for each (Received to Checked) & (Checked to Dispensed)\n",
    "dfinal_avg_time = merged_df[['Date', 'Time Taken (Received to Checked)', 'Time Taken (Checked to Dispensed)']]\n",
    "dfinal_avg_time.head()"
   ]
  },
  {
   "cell_type": "code",
   "execution_count": null,
   "metadata": {},
   "outputs": [],
   "source": [
    "#Convert NaT to 00:00:00\n",
    "dfinal_avg_time.loc[dfinal_avg_time['Time Taken (Received to Checked)'].isnull(), 'Time Taken (Received to Checked)'] = pd.to_timedelta(0)\n",
    "dfinal_avg_time.loc[dfinal_avg_time['Time Taken (Checked to Dispensed)'].isnull(), 'Time Taken (Checked to Dispensed)'] = pd.to_timedelta(0)"
   ]
  },
  {
   "cell_type": "code",
   "execution_count": null,
   "metadata": {},
   "outputs": [],
   "source": [
    "#Re-instate time format\n",
    "#dfinal_avg_time['Time Taken (Received to Checked)'] = pd.to_datetime(dfinal_avg_time['Time Taken (Received to Checked)'], infer_datetime_format=True).dt.time\n",
    "#dfinal_avg_time['Time Taken (Checked to Dispensed)'] = pd.to_datetime(dfinal_avg_time['Time Taken (Checked to Dispensed)'], infer_datetime_format=True).dt.time\n",
    "\n",
    "#Get average time taken per day\n",
    "dfinal_avg_time = dfinal_avg_time.groupby(pd.to_datetime(dfinal_avg_time['Date']).dt.date).mean(numeric_only=False)\n",
    "dfinal_avg_time"
   ]
  },
  {
   "cell_type": "code",
   "execution_count": null,
   "metadata": {},
   "outputs": [],
   "source": [
    "#Remove miliseconds\n",
    "dfinal_avg_time['Time Taken (Received to Checked)'] = dfinal_avg_time['Time Taken (Received to Checked)'].dt.floor('s')\n",
    "dfinal_avg_time['Time Taken (Checked to Dispensed)'] = dfinal_avg_time['Time Taken (Checked to Dispensed)'].dt.floor('s')\n",
    "\n",
    "dfinal_avg_time"
   ]
  },
  {
   "cell_type": "code",
   "execution_count": null,
   "metadata": {},
   "outputs": [],
   "source": [
    "#Rename Columns\n",
    "dfinal_avg_time = dfinal_avg_time.rename({'Time Taken (Received to Checked)' : 'Avg Time Taken / Day (Received to Checked)', 'Time Taken (Checked to Dispensed)' : 'Avg Time Taken / Day (Checked to Dispensed)'}, axis=1)"
   ]
  },
  {
   "cell_type": "code",
   "execution_count": null,
   "metadata": {},
   "outputs": [],
   "source": [
    "dfinal_avg_time = dfinal_avg_time.reset_index(drop=True)\n",
    "dfinal_avg_time"
   ]
  },
  {
   "cell_type": "code",
   "execution_count": null,
   "metadata": {},
   "outputs": [],
   "source": [
    "#Merge the results from grouby for Avg Time Taken\n",
    "merged_df = merged_df.merge(dfinal_avg_time, on='Date', how='left')\n",
    "merged_df"
   ]
  },
  {
   "cell_type": "code",
   "execution_count": null,
   "metadata": {},
   "outputs": [],
   "source": [
    "# drop Time Taken (Received to Dispensed) since it is the same as TAT\n",
    "merged_df.drop(['Time Taken (Received to Dispensed)'], axis=1, inplace=True)"
   ]
  },
  {
   "cell_type": "code",
   "execution_count": null,
   "metadata": {},
   "outputs": [],
   "source": [
    "# replace HW TTO with handwritten \n",
    "merged_df['TTO Type'] = merged_df['TTO Type'].replace('HW TTO', 'Handwritten')"
   ]
  },
  {
   "cell_type": "markdown",
   "metadata": {},
   "source": [
    "#### Average time taken per month "
   ]
  },
  {
   "cell_type": "code",
   "execution_count": null,
   "metadata": {},
   "outputs": [],
   "source": [
    "merged_df['Month']= pd.to_datetime(merged_df['Date']).dt.month_name()"
   ]
  },
  {
   "cell_type": "code",
   "execution_count": null,
   "metadata": {},
   "outputs": [],
   "source": [
    "dfinal_avg_time = merged_df[['Date', 'Time Taken (Received to Checked)', 'Time Taken (Checked to Dispensed)']]\n",
    "\n",
    "dfinal_avg_time['Month']= pd.to_datetime(dfinal_avg_time['Date']).dt.month_name()\n",
    "\n",
    "#Get average time taken per month\n",
    "dfinal_avg_time= dfinal_avg_time.groupby('Month').agg({'Time Taken (Received to Checked)': np.sum, 'Time Taken (Checked to Dispensed)': np.sum})\n",
    "\n",
    "x = dfinal_avg_time['Time Taken (Received to Checked)'] / np.timedelta64(1, 'm')\n",
    "y = merged_df.groupby('Month')['Time Taken (Received to Checked)'].count()\n",
    "\n",
    "dfinal_avg_time['Avg Time Taken / Month (Received to Checked)'] = (x/y)\n",
    "\n",
    "dfinal_avg_time['Avg Time Taken / Month (Received to Checked)'] = pd.to_datetime(dfinal_avg_time['Avg Time Taken / Month (Received to Checked)'], unit='m').apply(lambda x: x.strftime(\"%H:%M:%S\"))"
   ]
  },
  {
   "cell_type": "code",
   "execution_count": null,
   "metadata": {},
   "outputs": [],
   "source": [
    "a = dfinal_avg_time['Time Taken (Checked to Dispensed)'] / np.timedelta64(1, 'm')\n",
    "b = merged_df.groupby('Month')['Time Taken (Checked to Dispensed)'].count()\n",
    "\n",
    "dfinal_avg_time['Avg Time Taken / Month (Checked to Dispensed)'] = (a/b)\n",
    "\n",
    "dfinal_avg_time['Avg Time Taken / Month (Checked to Dispensed)'] = pd.to_datetime(dfinal_avg_time['Avg Time Taken / Month (Checked to Dispensed)'], unit='m').apply(lambda x: x.strftime(\"%H:%M:%S\"))"
   ]
  },
  {
   "cell_type": "code",
   "execution_count": null,
   "metadata": {},
   "outputs": [],
   "source": [
    "dfinal_avg_time"
   ]
  },
  {
   "cell_type": "code",
   "execution_count": null,
   "metadata": {},
   "outputs": [],
   "source": [
    "dfinal_avg_time = dfinal_avg_time.drop(dfinal_avg_time.columns[[0, 1]], axis=1)"
   ]
  },
  {
   "cell_type": "code",
   "execution_count": null,
   "metadata": {},
   "outputs": [],
   "source": [
    "merged_df = merged_df.merge(dfinal_avg_time, on='Month', how='left')\n",
    "merged_df"
   ]
  },
  {
   "cell_type": "code",
   "execution_count": null,
   "metadata": {},
   "outputs": [],
   "source": [
    "merged_df['Avg Time Taken / Month (Received to Checked)'] = pd.to_timedelta(merged_df['Avg Time Taken / Month (Received to Checked)'])\n",
    "merged_df['Avg Time Taken / Month (Checked to Dispensed)'] = pd.to_timedelta(merged_df['Avg Time Taken / Month (Checked to Dispensed)'])"
   ]
  },
  {
   "cell_type": "code",
   "execution_count": null,
   "metadata": {},
   "outputs": [],
   "source": [
    "merged_df"
   ]
  },
  {
   "cell_type": "markdown",
   "metadata": {},
   "source": [
    "### Step 22: Map Room/Bed No. to Ward No.\n",
    "\n",
    "Match Room No. to the corresponding Ward No."
   ]
  },
  {
   "cell_type": "code",
   "execution_count": null,
   "metadata": {},
   "outputs": [],
   "source": [
    "df_ward = pd.read_excel(\"../../Data/Pharmacy Dept/GEH TTO Data/GEH Wards.xlsx\", sheet_name=0)\n",
    "\n",
    "df_ward"
   ]
  },
  {
   "cell_type": "code",
   "execution_count": null,
   "metadata": {},
   "outputs": [],
   "source": [
    "df_ward.info()"
   ]
  },
  {
   "cell_type": "code",
   "execution_count": null,
   "metadata": {},
   "outputs": [],
   "source": [
    "df_ward['Room'] = df_ward['Room'].astype(str)\n",
    "merged_df['Room/Bed'] = merged_df['Room/Bed'].astype(str)"
   ]
  },
  {
   "cell_type": "code",
   "execution_count": null,
   "metadata": {},
   "outputs": [],
   "source": [
    "dfinal = pd.merge(merged_df, df_ward, how='left', left_on=['Room/Bed'], right_on=['Room'])\n",
    "\n",
    "dfinal.head()"
   ]
  },
  {
   "cell_type": "code",
   "execution_count": null,
   "metadata": {},
   "outputs": [],
   "source": [
    "dfinal[dfinal['Ward_y'].isnull()]"
   ]
  },
  {
   "cell_type": "markdown",
   "metadata": {},
   "source": [
    "#### Step 23: Fix Invalid Room"
   ]
  },
  {
   "cell_type": "code",
   "execution_count": null,
   "metadata": {},
   "outputs": [],
   "source": [
    "#fixing values in Room that are actually referring to the Ward, and match its corresponding in the Ward column\n",
    "dfinal.loc[(dfinal['Room/Bed'].str.contains('endo', case=False, na=False)), 'Ward_y'] = 'ENDO'\n",
    "dfinal.loc[(dfinal['Room/Bed'].str.contains('6W', case=False, na=False)), 'Ward_y'] = '6W'\n",
    "#dfinal.loc[(dfinal['Room'].str.contains('icu', case=False, na=False)), 'Ward_y'] = 'ICU'\n",
    "\n",
    "#Fix values in Room/Bed that are string 'nan' to np.NaN\n",
    "dfinal.loc[(dfinal['Room/Bed'].str.contains('nan', case=False, na=False)), 'Room/Bed'] = np.NaN"
   ]
  },
  {
   "cell_type": "code",
   "execution_count": null,
   "metadata": {},
   "outputs": [],
   "source": [
    "dfinal.drop(['Ward_x', 'Room_y'], axis=1, inplace=True)\n",
    "dfinal.rename({'Ward_y': 'Ward'}, axis=1, inplace=True)"
   ]
  },
  {
   "cell_type": "code",
   "execution_count": null,
   "metadata": {},
   "outputs": [],
   "source": [
    "dfinal[dfinal['Ward'].isnull() & dfinal['Room/Bed'].notnull()]"
   ]
  },
  {
   "cell_type": "code",
   "execution_count": null,
   "metadata": {},
   "outputs": [],
   "source": [
    "dfinal"
   ]
  },
  {
   "cell_type": "markdown",
   "metadata": {},
   "source": [
    "## Step 24: Export Final CLEANED to csv "
   ]
  },
  {
   "cell_type": "code",
   "execution_count": null,
   "metadata": {},
   "outputs": [],
   "source": [
    "dfinal.to_csv(\"../../Data/Pharmacy Dept/Data Cleaning/GEH_Data_Cleaned.csv\", index = None, header=True)"
   ]
  }
 ],
 "metadata": {
  "kernelspec": {
   "display_name": "Python 3",
   "language": "python",
   "name": "python3"
  },
  "language_info": {
   "codemirror_mode": {
    "name": "ipython",
    "version": 3
   },
   "file_extension": ".py",
   "mimetype": "text/x-python",
   "name": "python",
   "nbconvert_exporter": "python",
   "pygments_lexer": "ipython3",
   "version": "3.8.3"
  }
 },
 "nbformat": 4,
 "nbformat_minor": 4
}
