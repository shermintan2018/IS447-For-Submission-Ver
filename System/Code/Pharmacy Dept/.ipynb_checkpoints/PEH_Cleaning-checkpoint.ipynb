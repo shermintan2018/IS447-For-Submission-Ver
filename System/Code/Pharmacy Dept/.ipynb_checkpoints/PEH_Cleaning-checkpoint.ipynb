{
 "cells": [
  {
   "cell_type": "markdown",
   "metadata": {},
   "source": [
    "# PEH Pharmacy Department"
   ]
  },
  {
   "cell_type": "code",
   "execution_count": null,
   "metadata": {},
   "outputs": [],
   "source": [
    "import pandas as pd\n",
    "import numpy as np"
   ]
  },
  {
   "cell_type": "markdown",
   "metadata": {},
   "source": [
    "## Combining Excel Tabs and Basic Cleaning"
   ]
  },
  {
   "cell_type": "code",
   "execution_count": null,
   "metadata": {},
   "outputs": [],
   "source": [
    "#Combining all Excel sheets into one --Assuming all have the same headers\n",
    "\n",
    "f = '../PEH TTO Data.xlsx'\n",
    "df = pd.read_excel(f, sheet_name=None)\n",
    "df2 = pd.concat(df, ignore_index=True)\n",
    "\n",
    "df2.head()"
   ]
  },
  {
   "cell_type": "code",
   "execution_count": null,
   "metadata": {},
   "outputs": [],
   "source": [
    "#drop unnecessary columns --unnamed\n",
    "df2.drop(df2.columns[df2.columns.str.contains('Unnamed')], axis=1, inplace=True)\n",
    "df2.head()"
   ]
  },
  {
   "cell_type": "code",
   "execution_count": null,
   "metadata": {},
   "outputs": [],
   "source": [
    "df2.info()"
   ]
  },
  {
   "cell_type": "code",
   "execution_count": null,
   "metadata": {},
   "outputs": [],
   "source": [
    "df2.dropna(axis = 0, how = 'all', inplace = True)\n",
    "df2.info()"
   ]
  },
  {
   "cell_type": "code",
   "execution_count": null,
   "metadata": {},
   "outputs": [],
   "source": [
    "df2.tail()"
   ]
  },
  {
   "cell_type": "code",
   "execution_count": null,
   "metadata": {},
   "outputs": [],
   "source": [
    "df2.drop(df2.tail(3).index,inplace=True) "
   ]
  },
  {
   "cell_type": "code",
   "execution_count": null,
   "metadata": {},
   "outputs": [],
   "source": [
    "df2.tail()"
   ]
  },
  {
   "cell_type": "markdown",
   "metadata": {},
   "source": [
    "### Export to CSV from Excel"
   ]
  },
  {
   "cell_type": "code",
   "execution_count": null,
   "metadata": {},
   "outputs": [],
   "source": [
    "#export to csv\n",
    "df2.to_csv('merged_PEH_TTO_Data.csv', header=True,index=False)"
   ]
  },
  {
   "cell_type": "markdown",
   "metadata": {},
   "source": [
    "## Data Cleaning"
   ]
  },
  {
   "cell_type": "code",
   "execution_count": null,
   "metadata": {},
   "outputs": [],
   "source": [
    "#read csv for further cleaning\n",
    "df_csv = pd.read_csv('merged_PEH_TTO_Data.csv')\n",
    "df_csv"
   ]
  },
  {
   "cell_type": "code",
   "execution_count": null,
   "metadata": {},
   "outputs": [],
   "source": [
    "df_csv.info()"
   ]
  },
  {
   "cell_type": "markdown",
   "metadata": {},
   "source": [
    "### Handle Missing Values"
   ]
  },
  {
   "cell_type": "code",
   "execution_count": null,
   "metadata": {},
   "outputs": [],
   "source": [
    "df_csv.notnull().sum()"
   ]
  },
  {
   "cell_type": "code",
   "execution_count": null,
   "metadata": {},
   "outputs": [],
   "source": [
    "df_csv.isnull().sum()"
   ]
  },
  {
   "cell_type": "markdown",
   "metadata": {},
   "source": [
    "### Empty Case Number"
   ]
  },
  {
   "cell_type": "code",
   "execution_count": null,
   "metadata": {},
   "outputs": [],
   "source": [
    "#What do 'Empty' Case Number means even if the system tracked a medication dispensed record?\n",
    "\n",
    "df_csv[df_csv['Case Number'].isnull()]"
   ]
  },
  {
   "cell_type": "code",
   "execution_count": null,
   "metadata": {},
   "outputs": [],
   "source": [
    "df_csv = df_csv.dropna(subset=['Date'])\n",
    "\n",
    "df_csv.isnull().sum()"
   ]
  },
  {
   "cell_type": "code",
   "execution_count": null,
   "metadata": {},
   "outputs": [],
   "source": [
    "df_csv[df_csv['Case Number'].isnull()]"
   ]
  },
  {
   "cell_type": "code",
   "execution_count": null,
   "metadata": {},
   "outputs": [],
   "source": [
    "#Affix \"EMPTY\" if Case Number = NaN\n",
    "df_csv.loc[df_csv['Case Number'].isnull(), 'Case Number'] = \"EMPTY\""
   ]
  },
  {
   "cell_type": "code",
   "execution_count": null,
   "metadata": {},
   "outputs": [],
   "source": [
    "df_csv[df_csv['Case Number'] == \"EMPTY\"]"
   ]
  },
  {
   "cell_type": "markdown",
   "metadata": {},
   "source": [
    "### Data Standardization"
   ]
  },
  {
   "cell_type": "markdown",
   "metadata": {},
   "source": [
    "#### Rename Columns"
   ]
  },
  {
   "cell_type": "code",
   "execution_count": null,
   "metadata": {},
   "outputs": [],
   "source": [
    "#Rename Columns for future standardization\n",
    "new_cols_name = {'Verified': 'Time TTO Received', \n",
    "                'Meds Sent Down': 'Time (Meds Sent Down)', \n",
    "                'Checked': 'Time TTO Checked', \n",
    "                'Counselled': 'Time (Counselled)', \n",
    "                'Remarks\\n(input paeds if it is a 4P patient in 4A)': 'Remarks', \n",
    "                'Checked by Pharmacist': 'Checked By (Pharmacist)', \n",
    "                'Time to Ready for Collection': 'Time Taken (Ready for Collection)', \n",
    "                'Time to Counselling': 'Time Taken (to Counselling)', \n",
    "                'No. of Items': 'No. of Drugs'}\n",
    "\n",
    "df_csv.rename(columns=new_cols_name, inplace=True)\n",
    "\n",
    "df_csv.head()"
   ]
  },
  {
   "cell_type": "markdown",
   "metadata": {},
   "source": [
    "#### Fix Data Type(s) for Time"
   ]
  },
  {
   "cell_type": "code",
   "execution_count": null,
   "metadata": {},
   "outputs": [],
   "source": [
    "#Change 'Date' Column to datetime\n",
    "df_csv['Date'] = pd.to_datetime(df_csv['Date'], infer_datetime_format=True, errors='coerce')"
   ]
  },
  {
   "cell_type": "code",
   "execution_count": null,
   "metadata": {},
   "outputs": [],
   "source": [
    "#Change 'Date' Column to datetime.dt.date\n",
    "df_csv['Date'] = df_csv['Date'].dt.date"
   ]
  },
  {
   "cell_type": "code",
   "execution_count": null,
   "metadata": {},
   "outputs": [],
   "source": [
    "#FIXED with latest dataset\n",
    "\n",
    "#Drop invalid Time (Case Number: 3021022234, 3021022185, 3021026234, 3021032879, 3021032837, 3021000560)\n",
    "#Drop invalid Date (Date: 'dfdfdf', Case Number: 3021031272)\n",
    "#Dropped externally as format do not fit"
   ]
  },
  {
   "cell_type": "code",
   "execution_count": null,
   "metadata": {},
   "outputs": [],
   "source": [
    "#Change 'Time TTO Received', 'Time (Meds Sent Down)', 'Time TTO Checked', 'Time (Counselled)'\n",
    "#       'Time Taken (Ready for Collection)', 'Time Taken (to Counselling)' \n",
    "#       Columns to datetime.dt.time\n",
    "\n",
    "df_csv['Time TTO Received'] = pd.to_datetime(df_csv['Time TTO Received'], format='%H:%M:%S').dt.time\n",
    "df_csv['Time (Meds Sent Down)'] = pd.to_datetime(df_csv['Time (Meds Sent Down)'], format='%H:%M:%S').dt.time\n",
    "df_csv['Time TTO Checked'] = pd.to_datetime(df_csv['Time TTO Checked'], format='%H:%M:%S').dt.time\n",
    "df_csv['Time (Counselled)'] = pd.to_datetime(df_csv['Time (Counselled)'], format='%H:%M:%S').dt.time\n",
    "df_csv['Time Taken (Ready for Collection)'] = pd.to_datetime(df_csv['Time Taken (Ready for Collection)'], format='%H:%M:%S').dt.time\n",
    "df_csv['Time Taken (to Counselling)'] = pd.to_datetime(df_csv['Time Taken (to Counselling)'], format='%H:%M:%S').dt.time"
   ]
  },
  {
   "cell_type": "code",
   "execution_count": null,
   "metadata": {},
   "outputs": [],
   "source": [
    "#Change 'NaT/NaN' to '00:00:00'\n",
    "\n",
    "#df_csv['Time TTO Received'] = df_csv['Time TTO Received'].fillna(pd.Timedelta(seconds=0))\n",
    "#df_csv['Time (Meds Sent Down)'] = df_csv['Time (Meds Sent Down)'].fillna(pd.Timedelta(seconds=0))\n",
    "#df_csv['Time TTO Checked'] = df_csv['Time TTO Checked'].fillna(pd.Timedelta(seconds=0))\n",
    "#df_csv['Time (Counselled)'] = df_csv['Time (Counselled)'].fillna(pd.Timedelta(seconds=0))\n",
    "#df_csv['Time Taken (Ready for Collection)'] = df_csv['Time Taken (Ready for Collection)'].fillna(pd.Timedelta(seconds=0))\n",
    "#df_csv['Time Taken (to Counselling)'] = df_csv['Time Taken (to Counselling)'].fillna(pd.Timedelta(seconds=0))"
   ]
  },
  {
   "cell_type": "code",
   "execution_count": null,
   "metadata": {},
   "outputs": [],
   "source": [
    "#Remove '0 days' in all Time data type\n",
    "\n",
    "#df_csv['Time TTO Received'] = df_csv['Time TTO Received'].astype(str).str.split('0 days ').str[-1]\n",
    "#df_csv['Time (Meds Sent Down)'] = df_csv['Time (Meds Sent Down)'].astype(str).str.split('0 days ').str[-1]\n",
    "#df_csv['Time TTO Checked'] = df_csv['Time TTO Checked'].astype(str).str.split('0 days ').str[-1]\n",
    "#df_csv['Time (Counselled)'] = df_csv['Time (Counselled)'].astype(str).str.split('0 days ').str[-1]\n",
    "#df_csv['Time Taken (Ready for Collection)'] = df_csv['Time Taken (Ready for Collection)'].astype(str).str.split('0 days ').str[-1]\n",
    "#df_csv['Time Taken (to Counselling)'] = df_csv['Time Taken (to Counselling)'].astype(str).str.split('0 days ').str[-1]"
   ]
  },
  {
   "cell_type": "code",
   "execution_count": null,
   "metadata": {},
   "outputs": [],
   "source": [
    "#reinstate into Time format again\n",
    "\n",
    "#df_csv['Time TTO Received'] = pd.to_datetime(df_csv['Time TTO Received'], format='%H:%M:%S').dt.time\n",
    "#df_csv['Time (Meds Sent Down)'] = pd.to_datetime(df_csv['Time (Meds Sent Down)'], format='%H:%M:%S').dt.time\n",
    "#df_csv['Time TTO Checked'] = pd.to_datetime(df_csv['Time TTO Checked'], format='%H:%M:%S').dt.time\n",
    "#df_csv['Time (Counselled)'] = pd.to_datetime(df_csv['Time (Counselled)'], format='%H:%M:%S').dt.time\n",
    "#df_csv['Time Taken (Ready for Collection)'] = pd.to_datetime(df_csv['Time Taken (Ready for Collection)'], format='%H:%M:%S').dt.time\n",
    "#df_csv['Time Taken (to Counselling)'] = pd.to_datetime(df_csv['Time Taken (to Counselling)'], format='%H:%M:%S').dt.time"
   ]
  },
  {
   "cell_type": "code",
   "execution_count": null,
   "metadata": {},
   "outputs": [],
   "source": [
    "df_csv.head()"
   ]
  },
  {
   "cell_type": "markdown",
   "metadata": {},
   "source": [
    "#### Fix NaN values in non-Time Data Type"
   ]
  },
  {
   "cell_type": "code",
   "execution_count": null,
   "metadata": {},
   "outputs": [],
   "source": [
    "#No. of Drugs \n",
    "df_csv['No. of Drugs'] = df_csv['No. of Drugs'].fillna(\"NA\")"
   ]
  },
  {
   "cell_type": "code",
   "execution_count": null,
   "metadata": {},
   "outputs": [],
   "source": [
    "#Bedside Counselling Candidate\n",
    "df_csv['Bedside Counselling Candidate'] = df_csv['Bedside Counselling Candidate'].fillna('No')\n",
    "\n",
    "#IF Time Taken (to Counselling) == 00:00:00, then Bedside Counselling Candidate = No\n",
    "df_csv.loc[(df_csv['Time Taken (to Counselling)'] == pd.to_datetime('00:00:00').time()), 'Bedside Counselling Candidate'] = \"No\"\n",
    "\n",
    "#IF Time (to Counselling) > 00:00:00, then Bedside Counselling Candidate = Yes\n",
    "df_csv.loc[(df_csv['Time Taken (to Counselling)'] > pd.to_datetime('00:00:00').time()), 'Bedside Counselling Candidate'] = \"Yes\""
   ]
  },
  {
   "cell_type": "code",
   "execution_count": null,
   "metadata": {},
   "outputs": [],
   "source": [
    "df_csv.isnull().sum()"
   ]
  },
  {
   "cell_type": "code",
   "execution_count": null,
   "metadata": {},
   "outputs": [],
   "source": [
    "# Fill all NA with empty string\n",
    "\n",
    "#dfinal = df_csv.fillna('')\n",
    "#dfinal"
   ]
  },
  {
   "cell_type": "code",
   "execution_count": null,
   "metadata": {},
   "outputs": [],
   "source": [
    "dfinal = df_csv"
   ]
  },
  {
   "cell_type": "markdown",
   "metadata": {},
   "source": [
    "## EDA"
   ]
  },
  {
   "cell_type": "markdown",
   "metadata": {},
   "source": [
    "### Day of Week"
   ]
  },
  {
   "cell_type": "code",
   "execution_count": null,
   "metadata": {},
   "outputs": [],
   "source": [
    "dfinal['Weekday'] = pd.to_datetime(dfinal['Date']).dt.day_name()\n",
    "\n",
    "#Fill NaN with empty string for those without a Date\n",
    "dfinal['Weekday'] = dfinal['Weekday'].fillna('')\n",
    "\n",
    "dfinal.head()"
   ]
  },
  {
   "cell_type": "markdown",
   "metadata": {},
   "source": [
    "### Time TTO Dispensed \n",
    "\n",
    "PEH does not have a Time TTO Dispensed indicator in their original raw dataset"
   ]
  },
  {
   "cell_type": "code",
   "execution_count": null,
   "metadata": {},
   "outputs": [],
   "source": [
    "#IF time counselled > time checked : time dispensed == time counselled\n",
    "#else time dispensed == time checked\n",
    "\n",
    "dfinal['Time TTO Dispensed'] = np.where((dfinal['Time (Counselled)'] > dfinal['Time TTO Checked']), \n",
    "                                        dfinal['Time (Counselled)'], dfinal['Time TTO Checked'])\n",
    "\n",
    "dfinal.head()"
   ]
  },
  {
   "cell_type": "markdown",
   "metadata": {},
   "source": [
    "### Overall Time Taken"
   ]
  },
  {
   "cell_type": "code",
   "execution_count": null,
   "metadata": {},
   "outputs": [],
   "source": [
    "dfinal['Overall Time Taken (mins)'] = np.where(\n",
    "                                                (dfinal['Time Taken (to Counselling)'].isnull()), \n",
    "                                                pd.to_datetime(dfinal['Time Taken (Ready for Collection)'].astype(str)).dt.minute, \n",
    "                                                pd.to_datetime(dfinal['Time Taken (to Counselling)'].astype(str)).dt.minute)\n",
    "\n",
    "dfinal.head()"
   ]
  },
  {
   "cell_type": "code",
   "execution_count": null,
   "metadata": {},
   "outputs": [],
   "source": [
    "#pd.set_option('display.max_columns', None)\n",
    "dfinal[dfinal['Time Taken (to Counselling)'].notnull()]"
   ]
  },
  {
   "cell_type": "code",
   "execution_count": null,
   "metadata": {},
   "outputs": [],
   "source": [
    "#Time TTO Dispensed - Time (Counselled) - Time TTO Checked - Time (Meds Sent Down) - Time TTO Received\n",
    "\n",
    "#IF Time (Counselled) != 00:00:00 & IF Time (Meds Sent Down) != 00:00:00, Subtract all from Time TTO Dispensed\n",
    "#IF Time (Counselled) == 00:00:00 & Time (Meds Sent Down) == 00:00:00, Time TTO Dispensed - Time TTO Checked - Time TTO Received\n",
    "#IF Time (Counselled) == 00:00:00 & Time (Meds Sent Down) != 00:00:00, Time TTO Dispensed - Time TTO Checked - Time (Meds Sent Down) - Time TTO Received\n",
    "#IF Time (Counselled) != 00:00:00 & Time (Meds Sent Down) == 00:00:00, Time TTO Dispensed - Time (Counselled) - Time TTO Checked - Time TTO Received\n",
    "\n",
    "#df_test = dfinal\n",
    "#\n",
    "#df_test['Overall Time Taken to Dispensed'] = np.where(  \n",
    "#                                                    (df_test['Time (Counselled)'] != pd.to_datetime('00:00:00').time()) & \n",
    "#                                                    (df_test['Time (Meds Sent Down)'] != pd.to_datetime('00:00:00').time()),\n",
    "#                                                        (pd.to_timedelta(df_test['Time TTO Dispensed'].astype(str)) \n",
    "#                                                        - pd.to_timedelta(df_test['Time (Counselled)'].astype(str)) \n",
    "#                                                        - pd.to_timedelta(df_test['Time TTO Checked'].astype(str)) \n",
    "#                                                        - pd.to_timedelta(df_test['Time (Meds Sent Down)'].astype(str)) \n",
    "#                                                        - pd.to_timedelta(df_test['Time TTO Received'].astype(str))) ,\n",
    "#                                                        \n",
    "#                                                    np.where(\n",
    "#                                                        (df_test['Time (Counselled)'] == pd.to_datetime('00:00:00').time()) & \n",
    "#                                                        (df_test['Time (Meds Sent Down)'] == pd.to_datetime('00:00:00').time()),\n",
    "#                                                            (pd.to_timedelta(df_test['Time TTO Dispensed'].astype(str))                                     \n",
    "#                                                            - pd.to_timedelta(df_test['Time TTO Checked'].astype(str))                                                            \n",
    "#                                                            - pd.to_timedelta(df_test['Time TTO Received'].astype(str))) ,\n",
    "#\n",
    "#                                                    np.where(\n",
    "#                                                        (df_test['Time (Counselled)'] == pd.to_datetime('00:00:00').time()) & \n",
    "#                                                        (df_test['Time (Meds Sent Down)'] != pd.to_datetime('00:00:00').time()),\n",
    "#                                                            (pd.to_timedelta(df_test['Time TTO Dispensed'].astype(str))                                                             \n",
    "#                                                            - pd.to_timedelta(df_test['Time TTO Checked'].astype(str)) \n",
    "#                                                            - pd.to_timedelta(df_test['Time (Meds Sent Down)'].astype(str)) \n",
    "#                                                            - pd.to_timedelta(df_test['Time TTO Received'].astype(str))) ,\n",
    "#\n",
    "#                                                    np.where(\n",
    "#                                                        (df_test['Time (Counselled)'] != pd.to_datetime('00:00:00').time()) & \n",
    "#                                                        (df_test['Time (Meds Sent Down)'] == pd.to_datetime('00:00:00').time()),\n",
    "#                                                            (pd.to_timedelta(df_test['Time TTO Dispensed'].astype(str)) \n",
    "#                                                            - pd.to_timedelta(df_test['Time (Counselled)'].astype(str)) \n",
    "#                                                            - pd.to_timedelta(df_test['Time TTO Checked'].astype(str))                                                             \n",
    "#                                                            - pd.to_timedelta(df_test['Time TTO Received'].astype(str))) , \n",
    "#\n",
    "#                                                            np.NaN))))\n",
    "#\n",
    "#                                                            \n",
    "#df_test\n",
    "\n",
    "#dfinal['Overall Time Taken to Dispensed'] = (pd.to_timedelta(dfinal['Time TTO Dispensed'].astype(str)) \n",
    "#                                            - pd.to_timedelta(dfinal['Time (Counselled)'].astype(str)) \n",
    "#                                            - pd.to_timedelta(dfinal['Time TTO Checked'].astype(str)) \n",
    "#                                            - pd.to_timedelta(dfinal['Time (Meds Sent Down)'].astype(str)) \n",
    "#                                            - pd.to_timedelta(dfinal['Time TTO Received'].astype(str)))\n"
   ]
  },
  {
   "cell_type": "code",
   "execution_count": null,
   "metadata": {},
   "outputs": [],
   "source": [
    "#def td_to_hmsstr(td):\n",
    "#    \"\"\"\n",
    "#    convert a timedelta object td to a string in HH:MM:SS format.\n",
    "#    \"\"\"\n",
    "#    hours, remainder = divmod(td.total_seconds(), 3600)\n",
    "#    minutes, seconds = divmod(remainder, 60)\n",
    "#    return f'{int(hours):02}:{int(minutes):02}:{int(seconds):02}'\n",
    "#\n",
    "#\n",
    "#df_test['Overall Time Taken to Dispensed'] = df_test['Overall Time Taken to Dispensed'].apply(td_to_hmsstr)\n",
    "#df_test"
   ]
  },
  {
   "cell_type": "markdown",
   "metadata": {},
   "source": [
    "### Meet KPI?\n",
    "\n",
    "GEH: Total Time Taken < 45mins = Yes, else: No."
   ]
  },
  {
   "cell_type": "code",
   "execution_count": null,
   "metadata": {},
   "outputs": [],
   "source": [
    "dfinal['Meet KPI'] = np.where((dfinal['Overall Time Taken (mins)'].isnull()), \"NA\",\n",
    "                            np.where((dfinal['Overall Time Taken (mins)'] <= (pd.to_datetime('00:45:00')).minute),\n",
    "                                    'Yes', 'No'))\n",
    "\n",
    "dfinal"
   ]
  },
  {
   "cell_type": "code",
   "execution_count": null,
   "metadata": {},
   "outputs": [],
   "source": [
    "dfinal[dfinal['Meet KPI']==\"No\"]"
   ]
  },
  {
   "cell_type": "markdown",
   "metadata": {},
   "source": [
    "### Office Hours\n",
    "\n",
    "Standard Office Hours: 8:30AM to 5:00PM"
   ]
  },
  {
   "cell_type": "code",
   "execution_count": null,
   "metadata": {},
   "outputs": [],
   "source": [
    "dfinal['Office Hours'] = np.where(dfinal['Time TTO Received'].isnull() | dfinal['Time TTO Dispensed'].isnull() , 'NA',\n",
    "                            np.where(  #(dfinal['Time TTO Received'] >= pd.to_datetime('08:30:00').time()) & \n",
    "                                        (dfinal['Time TTO Dispensed'] <= pd.to_datetime('17:00:00').time()),\n",
    "                                        'Yes', 'No'))\n",
    "\n",
    "dfinal"
   ]
  },
  {
   "cell_type": "code",
   "execution_count": null,
   "metadata": {},
   "outputs": [],
   "source": [
    "dfinal[dfinal['Office Hours'] == 'No']"
   ]
  },
  {
   "cell_type": "markdown",
   "metadata": {},
   "source": [
    "## Export CLEANED to csv"
   ]
  },
  {
   "cell_type": "code",
   "execution_count": null,
   "metadata": {},
   "outputs": [],
   "source": [
    "#export to csv\n",
    "dfinal.to_csv('PEH_CLEANED_Data.csv', header=True, index=False)"
   ]
  },
  {
   "cell_type": "code",
   "execution_count": null,
   "metadata": {},
   "outputs": [],
   "source": []
  }
 ],
 "metadata": {
  "interpreter": {
   "hash": "082e9a3bcad0a290d0001e938aa60b99250c6c2ef33a923c00b70f9826caf4b7"
  },
  "kernelspec": {
   "display_name": "Python 3",
   "language": "python",
   "name": "python3"
  },
  "language_info": {
   "codemirror_mode": {
    "name": "ipython",
    "version": 3
   },
   "file_extension": ".py",
   "mimetype": "text/x-python",
   "name": "python",
   "nbconvert_exporter": "python",
   "pygments_lexer": "ipython3",
   "version": "3.6.5"
  }
 },
 "nbformat": 4,
 "nbformat_minor": 2
}
