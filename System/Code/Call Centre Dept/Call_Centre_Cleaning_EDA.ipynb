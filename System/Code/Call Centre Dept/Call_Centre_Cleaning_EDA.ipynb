{
 "cells": [
  {
   "cell_type": "markdown",
   "metadata": {},
   "source": [
    "# Call Centre Department"
   ]
  },
  {
   "cell_type": "markdown",
   "metadata": {},
   "source": [
    "## Step 1: Import necessary packages"
   ]
  },
  {
   "cell_type": "code",
   "execution_count": null,
   "metadata": {},
   "outputs": [],
   "source": [
    "import pandas as pd\n",
    "import numpy as np"
   ]
  },
  {
   "cell_type": "code",
   "execution_count": null,
   "metadata": {},
   "outputs": [],
   "source": [
    "pd.set_option('display.max_columns', None)"
   ]
  },
  {
   "cell_type": "markdown",
   "metadata": {},
   "source": [
    "## Step 2: Read all relevant CSVs"
   ]
  },
  {
   "cell_type": "code",
   "execution_count": null,
   "metadata": {},
   "outputs": [],
   "source": [
    "df = pd.read_csv('../../Data/Call Centre Dept/Call_Centre_Merged_Raw.csv')\n",
    "aventa_df = pd.read_csv('../../Data/Call Centre Dept/New Aventa.csv')"
   ]
  },
  {
   "cell_type": "code",
   "execution_count": null,
   "metadata": {},
   "outputs": [],
   "source": [
    "df"
   ]
  },
  {
   "cell_type": "code",
   "execution_count": null,
   "metadata": {},
   "outputs": [],
   "source": [
    "df.info()"
   ]
  },
  {
   "cell_type": "code",
   "execution_count": null,
   "metadata": {},
   "outputs": [],
   "source": [
    "aventa_df"
   ]
  },
  {
   "cell_type": "code",
   "execution_count": null,
   "metadata": {},
   "outputs": [],
   "source": [
    "aventa_df.info()"
   ]
  },
  {
   "cell_type": "markdown",
   "metadata": {},
   "source": [
    "## Data Cleaning"
   ]
  },
  {
   "cell_type": "markdown",
   "metadata": {},
   "source": [
    "### Step 3: Handle Missing Values"
   ]
  },
  {
   "cell_type": "code",
   "execution_count": null,
   "metadata": {},
   "outputs": [],
   "source": [
    "df.notnull().sum()"
   ]
  },
  {
   "cell_type": "code",
   "execution_count": null,
   "metadata": {},
   "outputs": [],
   "source": [
    "df.isnull().sum()"
   ]
  },
  {
   "cell_type": "code",
   "execution_count": null,
   "metadata": {},
   "outputs": [],
   "source": [
    "df = df.dropna(subset=['Number'])\n",
    "\n",
    "df.isnull().sum()"
   ]
  },
  {
   "cell_type": "code",
   "execution_count": null,
   "metadata": {},
   "outputs": [],
   "source": [
    "aventa_df.notnull().sum()"
   ]
  },
  {
   "cell_type": "code",
   "execution_count": null,
   "metadata": {},
   "outputs": [],
   "source": [
    "aventa_df.isnull().sum()"
   ]
  },
  {
   "cell_type": "markdown",
   "metadata": {},
   "source": [
    "### Step 4: Drop Unwanted Columns"
   ]
  },
  {
   "cell_type": "code",
   "execution_count": null,
   "metadata": {},
   "outputs": [],
   "source": [
    "df.drop(['Number','Actions'], axis=1, inplace=True)"
   ]
  },
  {
   "cell_type": "code",
   "execution_count": null,
   "metadata": {},
   "outputs": [],
   "source": [
    "df.info()"
   ]
  },
  {
   "cell_type": "code",
   "execution_count": null,
   "metadata": {},
   "outputs": [],
   "source": [
    "df.head()"
   ]
  },
  {
   "cell_type": "markdown",
   "metadata": {},
   "source": [
    "### Step 5: Standardization of Data Types"
   ]
  },
  {
   "cell_type": "code",
   "execution_count": null,
   "metadata": {},
   "outputs": [],
   "source": [
    "#Change 'Date' Column to datetime\n",
    "df['Date'] = pd.to_datetime(df['Date'], infer_datetime_format=True)\n",
    "\n",
    "#Show only Date format for 'Date'\n",
    "#df['Date'] = pd.to_datetime(df['Date']).dt.date"
   ]
  },
  {
   "cell_type": "code",
   "execution_count": null,
   "metadata": {},
   "outputs": [],
   "source": [
    "#Change 'Wait Time' & 'Talk Time' Column to datetime.dt.time\n",
    "df['Wait Time'] = pd.to_datetime(df['Wait Time'], format='%H:%M:%S').dt.time\n",
    "df['Talk Time'] = pd.to_datetime(df['Talk Time'], format='%H:%M:%S').dt.time"
   ]
  },
  {
   "cell_type": "code",
   "execution_count": null,
   "metadata": {},
   "outputs": [],
   "source": [
    "df.isnull().sum()"
   ]
  },
  {
   "cell_type": "markdown",
   "metadata": {},
   "source": [
    "## EDA"
   ]
  },
  {
   "cell_type": "markdown",
   "metadata": {},
   "source": [
    "### Step 6: Match Functional Group (Team) based on Agent's Country and Queue's Team"
   ]
  },
  {
   "cell_type": "markdown",
   "metadata": {},
   "source": [
    "#### Define Agent's Respective Country"
   ]
  },
  {
   "cell_type": "code",
   "execution_count": null,
   "metadata": {},
   "outputs": [],
   "source": [
    "# Create column to check Agent Country (PSCS/PSCM)\n",
    "\n",
    "ending = {'PSCS'}\n",
    "mapper = {True: 'PSCS', False: 'PSCM'}\n",
    "\n",
    "df['Country'] = df['Agent'].str[-4:].isin(ending).map(mapper)\n",
    "df.head()"
   ]
  },
  {
   "cell_type": "code",
   "execution_count": null,
   "metadata": {},
   "outputs": [],
   "source": [
    "#Edit column to check Agent == NONE, then Country == NONE\n",
    "#df['Country'][df.Agent == 'NONE'] == \"NONE\"\n",
    "df.loc[(df.Agent == \"NONE\"), 'Country'] = \"NONE\""
   ]
  },
  {
   "cell_type": "code",
   "execution_count": null,
   "metadata": {},
   "outputs": [],
   "source": [
    "#Functional Group by Agent_Country\n",
    "#If Agent Name ends with 'Country', and Queue = Reporting_Aventa['Description'], append Country.\n",
    "\n",
    "#aventa_df = pd.read_csv('../Reporting_Aventa_edited.csv', usecols=['Description', 'Team', 'Country'])\n",
    "\n",
    "#dfinal_agent = pd.merge(df, aventa_df, how='left', left_on=['Queue', 'Agent_Country'], right_on=['Description', 'Country'])\n",
    "\n",
    "#change 'Team' to 'Agent_Team'\n",
    "#dfinal_agent.rename(columns={'Team':'Agent_Team'}, inplace=True)\n",
    "\n",
    "#dfinal_agent.head()\n",
    "\n"
   ]
  },
  {
   "cell_type": "code",
   "execution_count": null,
   "metadata": {},
   "outputs": [],
   "source": [
    "#Check Queue with no Functional Group (Team)\n",
    "#dfnull_agent = dfinal_agent[dfinal_agent.isna().any(axis=1)]\n",
    "#dfnull_agent"
   ]
  },
  {
   "cell_type": "code",
   "execution_count": null,
   "metadata": {},
   "outputs": [],
   "source": [
    "#Check for unique values of those with no Functional Group (Team)\n",
    "#dfnull_agent['Queue'].unique()"
   ]
  },
  {
   "cell_type": "code",
   "execution_count": null,
   "metadata": {},
   "outputs": [],
   "source": [
    "#is_GEH_Day = dfnull_agent['Queue']=='GEH Internal - Night'\n",
    "#dfnull_agent_is_GEH_Day = dfnull_agent[is_GEH_Day]\n",
    "#print(dfnull_agent_is_GEH_Day.head())"
   ]
  },
  {
   "cell_type": "markdown",
   "metadata": {},
   "source": [
    "#### Define Queue's Respective Team"
   ]
  },
  {
   "cell_type": "code",
   "execution_count": null,
   "metadata": {},
   "outputs": [],
   "source": [
    "#Change all Queue: 'Hotel House call Services-Day' to same as Description: 'Hotel House Call Services - Day'\n",
    "\n",
    "df.loc[(df['Queue'] == 'Hotel House call Services-Day'), 'Queue'] = 'Hotel House Call Services - Day'"
   ]
  },
  {
   "cell_type": "code",
   "execution_count": null,
   "metadata": {},
   "outputs": [],
   "source": [
    "dfinal = pd.merge(df, aventa_df, how='left', left_on=['Queue'], right_on=['Description'])\n",
    "\n",
    "#change 'Team' to 'Queue_Team'\n",
    "#dfinal.rename(columns={'Team':'Queue_Team'}, inplace=True)\n",
    "\n",
    "dfinal.head()"
   ]
  },
  {
   "cell_type": "code",
   "execution_count": null,
   "metadata": {},
   "outputs": [],
   "source": [
    "#check if there is any NaN\n",
    "dfnull_team = dfinal[dfinal.isna().any(axis=1)]\n",
    "dfnull_team"
   ]
  },
  {
   "cell_type": "code",
   "execution_count": null,
   "metadata": {},
   "outputs": [],
   "source": [
    "dfnull_team['Queue'].unique()"
   ]
  },
  {
   "cell_type": "markdown",
   "metadata": {},
   "source": [
    "### Step 7: Get Calls Offered"
   ]
  },
  {
   "cell_type": "code",
   "execution_count": null,
   "metadata": {},
   "outputs": [],
   "source": [
    "\n",
    "dfinal['Calls_Offered'] = np.where((dfinal['Event'] == 'COMPLETEAGENT') | (dfinal['Event'] == 'COMPLETECALLER') | (dfinal['Event'] == 'ABANDON'), 1, 0)\n",
    "dfinal.head()"
   ]
  },
  {
   "cell_type": "code",
   "execution_count": null,
   "metadata": {},
   "outputs": [],
   "source": [
    "print(dfinal[dfinal['Calls_Offered']==0].head())"
   ]
  },
  {
   "cell_type": "markdown",
   "metadata": {},
   "source": [
    "### Step 8: Get Calls Answered"
   ]
  },
  {
   "cell_type": "code",
   "execution_count": null,
   "metadata": {},
   "outputs": [],
   "source": [
    "dfinal['Calls_Answered'] = np.where((dfinal['Event'] == 'COMPLETEAGENT') | (dfinal['Event'] == 'COMPLETECALLER'), 1, 0)\n",
    "\n",
    "dfinal.head()"
   ]
  },
  {
   "cell_type": "code",
   "execution_count": null,
   "metadata": {},
   "outputs": [],
   "source": [
    "print(dfinal[dfinal['Calls_Answered']==0].head())"
   ]
  },
  {
   "cell_type": "markdown",
   "metadata": {},
   "source": [
    "### Step 9: Get Waiting Time <= 20 seconds and <= 30 seconds\n",
    "\n",
    "Dataframe carried forward from Calls Answered"
   ]
  },
  {
   "cell_type": "code",
   "execution_count": null,
   "metadata": {},
   "outputs": [],
   "source": [
    "from datetime import time\n",
    "\n",
    "twenty_sec = time(0,0,20,0)\n",
    "thirty_sec = time(0,0,30,0)\n",
    "\n",
    "dfinal['Wait_Time_<=20s'] = np.where((dfinal['Event'] != 'ABANDON') & (dfinal['Wait Time'] <= twenty_sec),1,0)\n",
    "dfinal['Wait_Time_<=30s'] = np.where((dfinal['Event'] != 'ABANDON') & (dfinal['Wait Time'] <= thirty_sec),1,0)\n",
    "\n",
    "dfinal.head()"
   ]
  },
  {
   "cell_type": "code",
   "execution_count": null,
   "metadata": {},
   "outputs": [],
   "source": [
    "print(dfinal[dfinal['Wait_Time_<=20s']==0].head())"
   ]
  },
  {
   "cell_type": "code",
   "execution_count": null,
   "metadata": {},
   "outputs": [],
   "source": [
    "print(dfinal[dfinal['Wait_Time_<=30s']==0].head())"
   ]
  },
  {
   "cell_type": "markdown",
   "metadata": {},
   "source": [
    "### Step 10: Get Day of Week\n",
    "\n",
    "Dataframe carried forward from Waiting Time <= 20s and <=30s"
   ]
  },
  {
   "cell_type": "code",
   "execution_count": null,
   "metadata": {},
   "outputs": [],
   "source": [
    "dfinal['Weekday'] = dfinal['Date'].dt.day_name()\n",
    "\n",
    "dfinal.head()"
   ]
  },
  {
   "cell_type": "markdown",
   "metadata": {},
   "source": [
    "### Step 11: Understand if a call is Inbound or Outbound\n",
    "\n",
    "Dataframe carried forward from Day of Week"
   ]
  },
  {
   "cell_type": "code",
   "execution_count": null,
   "metadata": {},
   "outputs": [],
   "source": [
    "dfinal['Inbound_Outbound'] = np.where((dfinal['Queue']) != \"PSCS-Outbound\", \"Inbound\", \"Outbound\")\n",
    "\n",
    "dfinal.head()"
   ]
  },
  {
   "cell_type": "code",
   "execution_count": null,
   "metadata": {},
   "outputs": [],
   "source": [
    "print(dfinal[dfinal['Inbound_Outbound']==\"Outbound\"].head())"
   ]
  },
  {
   "cell_type": "markdown",
   "metadata": {},
   "source": [
    "## Step 12: Export to CSV for PowerBI"
   ]
  },
  {
   "cell_type": "code",
   "execution_count": null,
   "metadata": {},
   "outputs": [],
   "source": [
    "dfinal.to_csv('../../Data/Call Centre Dept/Call_Centre_CLEANED_Final.csv', index = False)"
   ]
  },
  {
   "cell_type": "code",
   "execution_count": null,
   "metadata": {},
   "outputs": [],
   "source": []
  }
 ],
 "metadata": {
  "interpreter": {
   "hash": "bea3bc9f89a851467925e2e5a20b05da1c7c8048a9ef51868efa7e4e46f3d921"
  },
  "kernelspec": {
   "display_name": "Python 3.6.8 64-bit ('base': conda)",
   "language": "python",
   "name": "python3"
  },
  "language_info": {
   "codemirror_mode": {
    "name": "ipython",
    "version": 3
   },
   "file_extension": ".py",
   "mimetype": "text/x-python",
   "name": "python",
   "nbconvert_exporter": "python",
   "pygments_lexer": "ipython3",
   "version": "3.8.3"
  },
  "orig_nbformat": 4
 },
 "nbformat": 4,
 "nbformat_minor": 2
}
